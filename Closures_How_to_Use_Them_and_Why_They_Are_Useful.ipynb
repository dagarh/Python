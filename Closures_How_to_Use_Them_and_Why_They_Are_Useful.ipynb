{
 "cells": [
  {
   "cell_type": "code",
   "execution_count": 13,
   "metadata": {
    "collapsed": false,
    "deletable": true,
    "editable": true
   },
   "outputs": [
    {
     "name": "stdout",
     "output_type": "stream",
     "text": [
      "Himanshu\n",
      "Deepanshu\n"
     ]
    }
   ],
   "source": [
    "# Closure \n",
    "\n",
    "# closure concept is about remembering the msg while making call with my_func1 or my_func2. eg:\n",
    "\n",
    "def outer_func(msg):\n",
    "    message = msg\n",
    "    \n",
    "    def inner_func():\n",
    "        print(message)\n",
    "        \n",
    "    return inner_func\n",
    "\n",
    "my_func1 = outer_func('Himanshu')\n",
    "my_func2 = outer_func('Deepanshu')\n",
    "\n",
    "my_func1()\n",
    "my_func2()\n",
    "\n",
    "# so here when i am calling inner_func() using my_func then it knows what message to print.it remembers it .\n",
    "# so this is a concept of closures"
   ]
  },
  {
   "cell_type": "code",
   "execution_count": 12,
   "metadata": {
    "collapsed": false
   },
   "outputs": [
    {
     "name": "stdout",
     "output_type": "stream",
     "text": [
      "23\n",
      "26\n",
      "<function html_tag.<locals>.print_tag at 0x7fafac1dfbf8>\n",
      "<h1>This is a headline!</h1>\n"
     ]
    }
   ],
   "source": [
    "def outer(x):\n",
    "    \n",
    "    def inner():\n",
    "        y = 20\n",
    "        print(x+y)\n",
    "        \n",
    "    return inner\n",
    "\n",
    "my_func1 = outer(3)\n",
    "my_func2 = outer(6)\n",
    "\n",
    "# this is a concept of closure that each my_func remembers which x value to use based on which we passed in past.\n",
    "my_func1()\n",
    "my_func2()\n",
    "\n",
    "\n",
    "\n",
    "\n",
    "# so concept of closure here is to remember this 'tag' thing. \n",
    "def html_tag(tag):\n",
    "    def print_tag(text):\n",
    "        return '<{0}>{1}</{0}>'.format(tag,text)\n",
    "    return print_tag\n",
    "\n",
    "h1_tag = html_tag('h1')\n",
    "print(h1_tag)\n",
    "\n",
    "h1_tag = html_tag('h1')\n",
    "print(h1_tag('This is a headline!'))"
   ]
  },
  {
   "cell_type": "code",
   "execution_count": 17,
   "metadata": {
    "collapsed": false
   },
   "outputs": [
    {
     "name": "stdout",
     "output_type": "stream",
     "text": [
      "6\n",
      "9\n",
      "5\n",
      "10\n"
     ]
    }
   ],
   "source": [
    "# Closures\n",
    "\n",
    "\n",
    "# here it is remembering which function to call . it knows that. so again a closure concept.\n",
    "def logger(func):\n",
    "    def log_func(*args):     # *args means you can pass any number of arguments to this function \n",
    "        print(func(*args))\n",
    "    return log_func\n",
    "\n",
    "\n",
    "def add(x, y):\n",
    "    return x+y\n",
    "\n",
    "\n",
    "def sub(x, y):\n",
    "    return x-y\n",
    "\n",
    "add_logger = logger(add)\n",
    "sub_logger = logger(sub)\n",
    "\n",
    "add_logger(3, 3)\n",
    "add_logger(4, 5)\n",
    "\n",
    "sub_logger(10, 5)\n",
    "sub_logger(20, 10)"
   ]
  }
 ],
 "metadata": {
  "kernelspec": {
   "display_name": "Python 3",
   "language": "python",
   "name": "python3"
  },
  "language_info": {
   "codemirror_mode": {
    "name": "ipython",
    "version": 3
   },
   "file_extension": ".py",
   "mimetype": "text/x-python",
   "name": "python",
   "nbconvert_exporter": "python",
   "pygments_lexer": "ipython3",
   "version": "3.5.2"
  }
 },
 "nbformat": 4,
 "nbformat_minor": 2
}
