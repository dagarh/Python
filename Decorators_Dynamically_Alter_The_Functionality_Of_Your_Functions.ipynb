{
 "cells": [
  {
   "cell_type": "code",
   "execution_count": 7,
   "metadata": {
    "collapsed": false,
    "deletable": true,
    "editable": true
   },
   "outputs": [
    {
     "name": "stdout",
     "output_type": "stream",
     "text": [
      "wrapper executed this before {} display\n",
      "display function ran\n"
     ]
    }
   ],
   "source": [
    "# Decorators\n",
    "\n",
    "# decorator is a concept of decorating a function(adding more functionality) without altering its definition\n",
    "# so kind of writing a wrapper over a function to add more functionality\n",
    "\n",
    "def decorator_function(original_function):\n",
    "    def wrapper_function():\n",
    "        print('wrapper executed this before {}',original_function.__name__)\n",
    "        original_function()\n",
    "    return wrapper_function\n",
    "\n",
    "@decorator_function\n",
    "def display():\n",
    "    print('display function ran')\n",
    "    \n",
    "# decorated_display = decorator_function(display)\n",
    "#                                                      ---> these both same as just adding one annotation \n",
    "# decorated_display()                                   \n",
    "\n",
    "# instead of using above 2 lines we can also add annotation to display() function\n",
    "# so puting @decorator_function on display() is same as : display = decorator_function(display) --> V.V.IM\n",
    "\n",
    "display()"
   ]
  },
  {
   "cell_type": "code",
   "execution_count": 10,
   "metadata": {
    "collapsed": false,
    "deletable": true,
    "editable": true
   },
   "outputs": [
    {
     "name": "stdout",
     "output_type": "stream",
     "text": [
      "wrapper executed this before {} display_info\n",
      "display_info ran with arguments (John , 25)\n",
      "\n",
      "wrapper executed this before {} display\n",
      "display function ran\n"
     ]
    }
   ],
   "source": [
    "def decorator_function(original_function):\n",
    "    def wrapper_function(*args,**kwargs):\n",
    "        print('wrapper executed this before {}',original_function.__name__)\n",
    "        original_function(*args,**kwargs)\n",
    "    return wrapper_function\n",
    "\n",
    "@decorator_function    # ~ display = decorator_function(display)\n",
    "def display():\n",
    "    print('display function ran')\n",
    "    \n",
    "@decorator_function    # ~ display_info = decorator_function(display_info)  \n",
    "def display_info(name,age):\n",
    "    print('display_info ran with arguments ({} , {})'.format(name,age))\n",
    "    \n",
    "display_info('John',25)\n",
    "print()\n",
    "display()     \n",
    "\n",
    "# so if we are applying same decorator_function over 2 functions in which one is having arguments and other one is \n",
    "# not then you have to use this *args(to accept any number of parameters) and **kwargs parameters\n"
   ]
  },
  {
   "cell_type": "code",
   "execution_count": 12,
   "metadata": {
    "collapsed": false,
    "deletable": true,
    "editable": true,
    "scrolled": true
   },
   "outputs": [
    {
     "name": "stdout",
     "output_type": "stream",
     "text": [
      "call method executed this before {} display_info\n",
      "display_info ran with arguments (John , 25)\n",
      "\n",
      "call method executed this before {} display\n",
      "display function ran\n"
     ]
    }
   ],
   "source": [
    "# To decorate functions people generally use decorator_class not decorator_function\n",
    "# so here is an example\n",
    "\n",
    "class decorator_class(object):  # this decorator_class is inheriting an object class (no concept of this with decorator)\n",
    "    \n",
    "    def __init__(self,original_function):   # this is similar to decorator_function\n",
    "        self.original_function = original_function  # the only thing which it is doing : it is tieing up the \n",
    "                                             # original_function with instance of a class.    \n",
    "    \n",
    "    def __call__(self,*args,**kwargs): # this will behave as our wrapper function and automatically returns\n",
    "        print('call method executed this before {}',self.original_function.__name__) # we don't have to do this manually\n",
    "        self.original_function(*args,**kwargs)  # as now we are associated with instance.that's why using self.                          \n",
    "            \n",
    "            \n",
    "@decorator_class    # ~ display = decorator_class(display)\n",
    "def display():\n",
    "    print('display function ran')\n",
    "    \n",
    "@decorator_class    # ~ display_info = decorator_class(display_info)  \n",
    "def display_info(name,age):\n",
    "    print('display_info ran with arguments ({} , {})'.format(name,age))\n",
    "    \n",
    "    \n",
    "display_info('John',25)\n",
    "print()\n",
    "display() "
   ]
  },
  {
   "cell_type": "code",
   "execution_count": 16,
   "metadata": {
    "collapsed": false,
    "deletable": true,
    "editable": true
   },
   "outputs": [
    {
     "name": "stdout",
     "output_type": "stream",
     "text": [
      "display_info ran with arguments (Himanshu , 23)\n"
     ]
    }
   ],
   "source": [
    "# Practical Examples of decorators\n",
    "\n",
    "def my_logger(orig_func):\n",
    "    import logging\n",
    "    logging.basicConfig(filename='{}.log'.format(orig_func.__name__), level=logging.INFO)\n",
    "\n",
    "    def wrapper(*args, **kwargs):\n",
    "        logging.info(\n",
    "            'Ran with args: {}, and kwargs: {}'.format(args, kwargs))\n",
    "        return orig_func(*args, **kwargs)\n",
    "\n",
    "    return wrapper\n",
    "\n",
    "# decorators can be used for the logging info for each function practically(and with decorators you can do easily)\n",
    "\n",
    "@my_logger\n",
    "def display_info(name,age):\n",
    "    print('display_info ran with arguments ({} , {})'.format(name,age))\n",
    "\n",
    "display_info('Himanshu',23)"
   ]
  },
  {
   "cell_type": "code",
   "execution_count": 5,
   "metadata": {
    "collapsed": false,
    "deletable": true,
    "editable": true
   },
   "outputs": [
    {
     "name": "stdout",
     "output_type": "stream",
     "text": [
      "display_info ran with arguments (Tom, 22)\n",
      "display_info ran in: 1.0017344951629639 sec\n"
     ]
    }
   ],
   "source": [
    "# another practical use of a decorator is to get the execution time of a function\n",
    "\n",
    "import time\n",
    "def my_timer(orig_func):\n",
    "    \n",
    "    def wrapper(*args, **kwargs):\n",
    "        t1 = time.time()\n",
    "        result = orig_func(*args, **kwargs)\n",
    "        t2 = time.time() - t1\n",
    "        print('{} ran in: {} sec'.format(orig_func.__name__, t2))\n",
    "        return result\n",
    "\n",
    "    return wrapper\n",
    "\n",
    "\n",
    "@my_timer                       # display_info = my_timer(display_info) \n",
    "def display_info(name, age):\n",
    "    time.sleep(1)\n",
    "    print('display_info ran with arguments ({}, {})'.format(name, age))\n",
    "\n",
    "display_info('Tom', 22)"
   ]
  },
  {
   "cell_type": "code",
   "execution_count": 24,
   "metadata": {
    "collapsed": false,
    "deletable": true,
    "editable": true
   },
   "outputs": [
    {
     "name": "stdout",
     "output_type": "stream",
     "text": [
      "display_info ran with arguments (Tom, 22)\n",
      "display_info ran in: 1.001206636428833 sec\n"
     ]
    }
   ],
   "source": [
    "from functools import wraps\n",
    "\n",
    "import time \n",
    "\n",
    "def my_logger(orig_func):\n",
    "    import logging\n",
    "    logging.basicConfig(filename='{}.log'.format(orig_func.__name__), level=logging.INFO)\n",
    "\n",
    "    @wraps(orig_func)     # these annotations are to create logging with file name as display_info.log not with   \n",
    "    def wrapper(*args, **kwargs):   # wrapper.log\n",
    "        logging.info(\n",
    "            'Ran with args: {}, and kwargs: {}'.format(args, kwargs))\n",
    "        return orig_func(*args, **kwargs)\n",
    "\n",
    "    return wrapper\n",
    "\n",
    "\n",
    "def my_timer(orig_func):\n",
    "\n",
    "    @wraps(orig_func)\n",
    "    def wrapper(*args, **kwargs):\n",
    "        t1 = time.time()\n",
    "        result = orig_func(*args, **kwargs)\n",
    "        t2 = time.time() - t1\n",
    "        print('{} ran in: {} sec'.format(orig_func.__name__, t2))\n",
    "        return result\n",
    "\n",
    "    return wrapper\n",
    "\n",
    "\n",
    "@my_logger                       # we applied stack of 2 decorators over single function\n",
    "@my_timer                        # my_timer(display_info) would return the address of wrapper which we will pass into my_logger \n",
    "def display_info(name, age):     # display_info = my_logger(my_timer(display_info))\n",
    "    time.sleep(1)\n",
    "    print('display_info ran with arguments ({}, {})'.format(name, age))\n",
    "\n",
    "display_info('Tom', 22)"
   ]
  },
  {
   "cell_type": "code",
   "execution_count": 26,
   "metadata": {
    "collapsed": false
   },
   "outputs": [
    {
     "name": "stdout",
     "output_type": "stream",
     "text": [
      "LOG: Executed Before display_info\n",
      "display_info ran with arguments (John , 25)\n",
      "LOG: Executed After display_info \n",
      "\n",
      "LOG: Executed Before display_info\n",
      "display_info ran with arguments (Travis , 30)\n",
      "LOG: Executed After display_info \n",
      "\n"
     ]
    }
   ],
   "source": [
    "# DECORATORS With Arguments\n",
    "\n",
    "def prefix_decorator(prefix):\n",
    "    def decorator_function(original_function):\n",
    "        def wrapper_function(*args,**kwargs):\n",
    "            print(prefix,'Executed Before',original_function.__name__)\n",
    "            result = original_function(*args,**kwargs)\n",
    "            print(prefix,'Executed After',original_function.__name__,'\\n')\n",
    "            return result\n",
    "        return wrapper_function\n",
    "    return decorator_function\n",
    "\n",
    "\n",
    "@prefix_decorator('LOG:')\n",
    "def display_info(name,age):\n",
    "    print('display_info ran with arguments ({} , {})'.format(name,age))\n",
    "    \n",
    "display_info('John',25)\n",
    "display_info('Travis',30)"
   ]
  }
 ],
 "metadata": {
  "kernelspec": {
   "display_name": "Python 3",
   "language": "python",
   "name": "python3"
  },
  "language_info": {
   "codemirror_mode": {
    "name": "ipython",
    "version": 3
   },
   "file_extension": ".py",
   "mimetype": "text/x-python",
   "name": "python",
   "nbconvert_exporter": "python",
   "pygments_lexer": "ipython3",
   "version": "3.5.2"
  }
 },
 "nbformat": 4,
 "nbformat_minor": 2
}
