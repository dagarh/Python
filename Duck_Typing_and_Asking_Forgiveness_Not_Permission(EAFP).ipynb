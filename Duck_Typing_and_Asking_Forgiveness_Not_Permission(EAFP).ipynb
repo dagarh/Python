{
 "cells": [
  {
   "cell_type": "code",
   "execution_count": 3,
   "metadata": {
    "collapsed": false
   },
   "outputs": [
    {
     "name": "stdout",
     "output_type": "stream",
     "text": [
      "Quack quack\n",
      "Flap Flap!\n",
      "\n",
      "This has to be a duck\n",
      "\n"
     ]
    }
   ],
   "source": [
    "# Duck Typing and easier to ask forgiveness than permission\n",
    "\n",
    "class Duck:\n",
    "    def quack(self):\n",
    "        print('Quack','quack')\n",
    "        \n",
    "    def fly(self):\n",
    "        print('Flap','Flap!')\n",
    "        \n",
    "class Person:\n",
    "    def quack(self):\n",
    "        print(\"I'm Quacking like a Duck\")\n",
    "        \n",
    "    def fly(self):\n",
    "        print(\"I'm Flying my arms\")\n",
    "        \n",
    "def quack_and_fly(thing):\n",
    "    # Non Duck-typed (Non-Pythonic)\n",
    "    if isinstance(thing,Duck):\n",
    "        thing.quack()\n",
    "        thing.fly()\n",
    "    else :\n",
    "        print(\"This has to be a duck\")\n",
    "    \n",
    "    print()\n",
    "\n",
    "d = Duck()\n",
    "quack_and_fly(d)\n",
    "\n",
    "p = Person()\n",
    "quack_and_fly(p)\n",
    "    "
   ]
  },
  {
   "cell_type": "code",
   "execution_count": 5,
   "metadata": {
    "collapsed": false
   },
   "outputs": [
    {
     "name": "stdout",
     "output_type": "stream",
     "text": [
      "Quack quack\n",
      "Flap Flap!\n",
      "\n",
      "I'm Quacking like a Duck\n",
      "I'm Flying my arms\n",
      "\n"
     ]
    }
   ],
   "source": [
    "# if we just say that even if thing behaves like a duck --> it is okay .so we can remove our condition\n",
    "\n",
    "class Duck:\n",
    "    def quack(self):\n",
    "        print('Quack','quack')\n",
    "        \n",
    "    def fly(self):\n",
    "        print('Flap','Flap!')\n",
    "        \n",
    "class Person:\n",
    "    def quack(self):\n",
    "        print(\"I'm Quacking like a Duck\")\n",
    "        \n",
    "    def fly(self):\n",
    "        print(\"I'm Flying my arms\")\n",
    "        \n",
    "def quack_and_fly(thing):\n",
    "    thing.quack()\n",
    "    thing.fly()\n",
    "    print()\n",
    "\n",
    "d = Duck()\n",
    "quack_and_fly(d)\n",
    "\n",
    "p = Person()\n",
    "quack_and_fly(p)\n",
    "\n",
    "# it works --> great"
   ]
  },
  {
   "cell_type": "code",
   "execution_count": 9,
   "metadata": {
    "collapsed": false
   },
   "outputs": [
    {
     "name": "stdout",
     "output_type": "stream",
     "text": [
      "Quack quack\n",
      "Flap Flap!\n",
      "\n",
      "I'm Quacking like a Duck\n",
      "I'm Flying my arms\n",
      "\n"
     ]
    }
   ],
   "source": [
    "# but calling quack() and fly() on any object may be dangerous. so before calling a function you can check whether \n",
    "# that function exists or not\n",
    "\n",
    "# This concept is called as --> asking for Permission ( Non - Pythonic)\n",
    "\n",
    "class Duck:\n",
    "    def quack(self):\n",
    "        print('Quack','quack')\n",
    "        \n",
    "    def fly(self):\n",
    "        print('Flap','Flap!')\n",
    "        \n",
    "class Person:\n",
    "    def quack(self):\n",
    "        print(\"I'm Quacking like a Duck\")\n",
    "        \n",
    "    def fly(self):\n",
    "        print(\"I'm Flying my arms\")\n",
    "        \n",
    "def quack_and_fly(thing):\n",
    "    # Non - Pythonic\n",
    "    if hasattr(thing,'quack'):\n",
    "        if callable(thing.quack):\n",
    "            thing.quack()\n",
    "            \n",
    "    if hasattr(thing,'fly'):\n",
    "        if callable(thing.fly):\n",
    "            thing.fly()\n",
    "    print()\n",
    "\n",
    "d = Duck()\n",
    "quack_and_fly(d)\n",
    "\n",
    "p = Person()\n",
    "quack_and_fly(p)\n",
    "\n",
    "\n",
    "# so it's cumbersome process to ask for permission each and every time and that's why it's easier to ask \n",
    "# forgiveness than permission"
   ]
  },
  {
   "cell_type": "code",
   "execution_count": 12,
   "metadata": {
    "collapsed": false
   },
   "outputs": [
    {
     "name": "stdout",
     "output_type": "stream",
     "text": [
      "Quack quack\n",
      "Flap Flap!\n",
      "\n",
      "I'm Quacking like a Duck\n",
      "I'm Flying my arms\n",
      "\n"
     ]
    }
   ],
   "source": [
    "class Duck:\n",
    "    def quack(self):\n",
    "        print('Quack','quack')\n",
    "        \n",
    "    def fly(self):\n",
    "        print('Flap','Flap!')\n",
    "        \n",
    "class Person:\n",
    "    def quack(self):\n",
    "        print(\"I'm Quacking like a Duck\")\n",
    "        \n",
    "    def fly(self):\n",
    "        print(\"I'm Flying my arms\")\n",
    "        \n",
    "def quack_and_fly(thing):\n",
    "    # Pythonic\n",
    "    try:\n",
    "        thing.quack()\n",
    "        thing.fly()\n",
    "    except AttributeError as e:\n",
    "        print(e)\n",
    "        \n",
    "    print()\n",
    "\n",
    "d = Duck()\n",
    "quack_and_fly(d)\n",
    "\n",
    "p = Person()\n",
    "quack_and_fly(p)\n",
    "\n",
    "# So concept is if it works then great otherwise we can handle that error ---> So it is always easier to ask\n",
    "# forgiveness than permission"
   ]
  },
  {
   "cell_type": "code",
   "execution_count": 19,
   "metadata": {
    "collapsed": false
   },
   "outputs": [
    {
     "name": "stdout",
     "output_type": "stream",
     "text": [
      "Missing some keys\n",
      "Missing 'job' key\n"
     ]
    }
   ],
   "source": [
    "# Another example which shows that it is easier to ask forgiveness than the permission\n",
    "\n",
    "#person = {'name':'Himanshu','age':23,'job':'Programmer'}\n",
    "person = {'name':'Himanshu','age':23}\n",
    "\n",
    "# Non-Pythonic (asking for permission , not recommended)\n",
    "if 'name' in person and 'age' in person and 'job' in person :\n",
    "    print(\"I'm {name} , I'm {age} years old and my job is {job}\".format(**person))\n",
    "else:\n",
    "    print('Missing some keys')\n",
    "\n",
    "    \n",
    "# Pythonic way (asking for forgiveness , recommended)\n",
    "try:\n",
    "    print(\"I'm {name} , I'm {age} years old and my job is {job}\".format(**person))\n",
    "except KeyError as e:\n",
    "    print(\"Missing {} key\".format(e))\n",
    "    \n",
    "# Same thing we can do with list also"
   ]
  },
  {
   "cell_type": "code",
   "execution_count": 23,
   "metadata": {
    "collapsed": false
   },
   "outputs": [
    {
     "name": "stdout",
     "output_type": "stream",
     "text": [
      "File can not be accessed\n",
      "File can't be accessed\n"
     ]
    }
   ],
   "source": [
    "# Pythonic way is faster than Non-Pythonic as we access object lot of times in Non-Pythonic --> asking for \n",
    "# permission\n",
    "\n",
    "# And this Pythonic way also avoids RACE condition\n",
    "\n",
    "# Race Condition\n",
    "import os\n",
    "my_file='/temp/test.txt'\n",
    "if os.access(my_file,os.R_OK):\n",
    "    with open(my_file) as f:\n",
    "        print(f.read())\n",
    "else:\n",
    "    print('File can not be accessed')\n",
    "# in above case it might so happen that --> we checked if if condition and it is true then we came \n",
    "# inside to open a file and in that duration , its access is being restricted.(so it is race condition)\n",
    "\n",
    "    \n",
    "    \n",
    "# No-race condition\n",
    "try:\n",
    "    f = open(my_file)\n",
    "except IOError as e :\n",
    "    print(\"File can't be accessed\")\n",
    "else:\n",
    "    with f:\n",
    "        print(f.read())"
   ]
  },
  {
   "cell_type": "code",
   "execution_count": null,
   "metadata": {
    "collapsed": true
   },
   "outputs": [],
   "source": [
    "#END"
   ]
  }
 ],
 "metadata": {
  "kernelspec": {
   "display_name": "Python 3",
   "language": "python",
   "name": "python3"
  },
  "language_info": {
   "codemirror_mode": {
    "name": "ipython",
    "version": 3
   },
   "file_extension": ".py",
   "mimetype": "text/x-python",
   "name": "python",
   "nbconvert_exporter": "python",
   "pygments_lexer": "ipython3",
   "version": "3.5.2"
  }
 },
 "nbformat": 4,
 "nbformat_minor": 2
}
