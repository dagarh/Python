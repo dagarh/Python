{
 "cells": [
  {
   "cell_type": "code",
   "execution_count": 3,
   "metadata": {
    "collapsed": false
   },
   "outputs": [
    {
     "name": "stdout",
     "output_type": "stream",
     "text": [
      "test.txt\n",
      "r\n"
     ]
    }
   ],
   "source": [
    "# File Objects \n",
    "\n",
    "# you can open a file using open() function\n",
    "\n",
    "# f = open('test.txt')  # by default it opens a file in read mode(you can see by pressing shift + tab).\n",
    "f = open('test.txt',mode='r') \n",
    "\n",
    "print(f.name)\n",
    "print(f.mode)   # reading - 'r', write - 'w', read write - 'r+' , append - 'a'\n",
    "\n",
    "f.close()  # here we have to close file explicitly otherwise application may go down due to leaks\n"
   ]
  },
  {
   "cell_type": "code",
   "execution_count": 5,
   "metadata": {
    "collapsed": false
   },
   "outputs": [
    {
     "name": "stdout",
     "output_type": "stream",
     "text": [
      "True\n"
     ]
    }
   ],
   "source": [
    "# now we will look at how we can open a file using context manager (this you have to follow)\n",
    "# advantage you get while working with context manager is : it automatically closes the file , handles exception by its own\n",
    "# and you can do your operation on file within the block of this context manager easily\n",
    "\n",
    "\n",
    "with open('test.txt',mode='r') as f:\n",
    "    pass\n",
    "\n",
    "print(f.closed) # you can use f outside the context manager as you have seen SCOPE video and can verify whether\n",
    "                # file is closed or not but you can't read the file here(it will throw exception)\n"
   ]
  },
  {
   "cell_type": "code",
   "execution_count": 9,
   "metadata": {
    "collapsed": false
   },
   "outputs": [
    {
     "name": "stdout",
     "output_type": "stream",
     "text": [
      "hey my name is himanshu.\n",
      "I work in arcesium.\n",
      "arcesium is awsome company.\n",
      "\n",
      "['hey my name is himanshu.\\n', 'I work in arcesium.\\n', 'arcesium is awsome company.\\n']\n"
     ]
    }
   ],
   "source": [
    "with open('test.txt',mode='r') as f:   # it is not a loop --> remember this\n",
    "    f_content = f.read()\n",
    "    print(f_content)\n",
    "# for larger files this is not efficient\n",
    "\n",
    "with open('test.txt',mode='r') as f:\n",
    "    f_content = f.readlines()\n",
    "    print(f_content)\n",
    "    \n",
    "# above methods are inefficient as these reads file at once and hence you might end up with memory space error"
   ]
  },
  {
   "cell_type": "code",
   "execution_count": 14,
   "metadata": {
    "collapsed": false
   },
   "outputs": [
    {
     "name": "stdout",
     "output_type": "stream",
     "text": [
      "hey my name is himanshu.\n",
      "I work in arcesium.\n"
     ]
    }
   ],
   "source": [
    "with open('test.txt',mode='r') as f:\n",
    "    f_content = f.readline()\n",
    "    print(f_content,end='')  # as '\\n' is already present in a file.\n",
    "    \n",
    "    f_content = f.readline()\n",
    "    print(f_content,end='')\n",
    "    \n",
    "# above method is reading line by line but problem is we have to write it 1000 times if 1000 lines are present in file"
   ]
  },
  {
   "cell_type": "code",
   "execution_count": 17,
   "metadata": {
    "collapsed": false
   },
   "outputs": [
    {
     "name": "stdout",
     "output_type": "stream",
     "text": [
      "hey my name is himanshu.\n",
      "I work in arcesium.\n",
      "arcesium is awsome company.\n"
     ]
    }
   ],
   "source": [
    "# this is best way to iterate over a file line by line\n",
    "\n",
    "with open('test.txt',mode='r') as f:\n",
    "    for line in f:\n",
    "        print(line,end='')\n",
    "# memory efficient as reading line by line"
   ]
  },
  {
   "cell_type": "code",
   "execution_count": 24,
   "metadata": {
    "collapsed": false
   },
   "outputs": [
    {
     "name": "stdout",
     "output_type": "stream",
     "text": [
      "hey my nam*e is himan*shu.\n",
      "I wor*k in arces*ium.\n",
      "arces*ium is aws*ome compan*y.\n",
      "*"
     ]
    }
   ],
   "source": [
    "# we can use f.read() efficiently and use this technique also --> by passing parameter\n",
    "\n",
    "with open('test.txt',mode='r') as f:\n",
    "    size_to_read = 10\n",
    "    f_content = f.read(size_to_read)     # f.read() return empty string as it reaches EOF\n",
    "    while  len(f_content) > 0:\n",
    "        print(f_content,end='*')\n",
    "        f_content = f.read(size_to_read)"
   ]
  },
  {
   "cell_type": "code",
   "execution_count": 26,
   "metadata": {
    "collapsed": false
   },
   "outputs": [
    {
     "name": "stdout",
     "output_type": "stream",
     "text": [
      "10\n",
      "hey my nam*e is himan*shu.\n",
      "I wor*k in arces*ium.\n",
      "arces*ium is aws*ome compan*y.\n",
      "*"
     ]
    }
   ],
   "source": [
    "# f.tell() and f.seek()\n",
    "\n",
    "with open('test.txt',mode='r') as f:\n",
    "    size_to_read = 10\n",
    "    f_content = f.read(size_to_read)     # f.read() return empty string as it reaches EOF\n",
    "    \n",
    "    print(f.tell())    # it is telling that file reference is pointing to the 10th position \n",
    "                       # we can manually shift position by using seek() function\n",
    "    \n",
    "    while  len(f_content) > 0:\n",
    "        print(f_content,end='*')\n",
    "        f_content = f.read(size_to_read)"
   ]
  },
  {
   "cell_type": "code",
   "execution_count": 31,
   "metadata": {
    "collapsed": false
   },
   "outputs": [
    {
     "name": "stdout",
     "output_type": "stream",
     "text": [
      "hey my name is himan\n",
      "\n",
      "\n",
      "\n",
      "hey my namhey my nam\n"
     ]
    }
   ],
   "source": [
    "with open('test.txt',mode='r') as f:\n",
    "    size_to_read = 10\n",
    "    f_content = f.read(size_to_read)\n",
    "    \n",
    "    print(f_content,end='')\n",
    "    \n",
    "    f_content = f.read(size_to_read)\n",
    "    print(f_content)\n",
    "    \n",
    "# above it printed out 20 characters in the file but if you want to read the file from starting in second time also\n",
    "# then it can be achieved using f.seek() function\n",
    "\n",
    "print(\"\\n\\n\")\n",
    "\n",
    "with open('test.txt',mode='r') as f:\n",
    "    size_to_read = 10\n",
    "    f_content = f.read(size_to_read)\n",
    "    print(f_content,end='')\n",
    "    \n",
    "    f.seek(0)      # so we can set reference to any position in a file at any time based on our requirement.\n",
    "        \n",
    "    f_content = f.read(size_to_read)\n",
    "    print(f_content)\n"
   ]
  },
  {
   "cell_type": "code",
   "execution_count": 39,
   "metadata": {
    "collapsed": false
   },
   "outputs": [],
   "source": [
    "# writing to a file\n",
    "\n",
    "with open('test2.txt',mode='w') as f:   \n",
    "    # if you try to write in read mode then it will throw exception\n",
    "    # if file doesn't exist then it will create one otherwise it will override so be careful\n",
    "    f.write('Test')\n",
    "    f.seek(0)\n",
    "    f.write('R')\n",
    "    f.write('Test')\n",
    "# with seek() we can move your writing pointer anywhere"
   ]
  },
  {
   "cell_type": "code",
   "execution_count": 44,
   "metadata": {
    "collapsed": true
   },
   "outputs": [],
   "source": [
    "# reading from a file and writing to other file\n",
    "\n",
    "with open('test.txt',mode='r') as rf:\n",
    "    with open('test_copy',mode='w') as wf:\n",
    "        for line in rf:\n",
    "            wf.write(line)\n",
    "            \n",
    "         # OR   \n",
    "with open('test.txt',mode='r') as rf , open('test_copy',mode='w') as wf :\n",
    "        for line in rf:\n",
    "            wf.write(line)\n"
   ]
  },
  {
   "cell_type": "code",
   "execution_count": 46,
   "metadata": {
    "collapsed": false
   },
   "outputs": [
    {
     "ename": "FileNotFoundError",
     "evalue": "[Errno 2] No such file or directory: 'test.jpeg'",
     "output_type": "error",
     "traceback": [
      "\u001b[0;31m---------------------------------------------------------------------------\u001b[0m",
      "\u001b[0;31mFileNotFoundError\u001b[0m                         Traceback (most recent call last)",
      "\u001b[0;32m<ipython-input-46-b88f4b6813b7>\u001b[0m in \u001b[0;36m<module>\u001b[0;34m()\u001b[0m\n\u001b[1;32m      4\u001b[0m \u001b[0;31m# for binary mode : read - 'rb' , write - 'wb' , append - 'ab' , readwrite - 'rb+'\u001b[0m\u001b[0;34m\u001b[0m\u001b[0;34m\u001b[0m\u001b[0m\n\u001b[1;32m      5\u001b[0m \u001b[0;34m\u001b[0m\u001b[0m\n\u001b[0;32m----> 6\u001b[0;31m \u001b[0;32mwith\u001b[0m \u001b[0mopen\u001b[0m\u001b[0;34m(\u001b[0m\u001b[0;34m'test.jpeg'\u001b[0m\u001b[0;34m,\u001b[0m\u001b[0mmode\u001b[0m\u001b[0;34m=\u001b[0m\u001b[0;34m'rb'\u001b[0m\u001b[0;34m)\u001b[0m \u001b[0;32mas\u001b[0m \u001b[0mrf\u001b[0m\u001b[0;34m:\u001b[0m           \u001b[0;31m# for now its showing error as i don't have this .jpeg file :P\u001b[0m\u001b[0;34m\u001b[0m\u001b[0m\n\u001b[0m\u001b[1;32m      7\u001b[0m     \u001b[0;32mwith\u001b[0m \u001b[0mopen\u001b[0m\u001b[0;34m(\u001b[0m\u001b[0;34m'test_jpeg'\u001b[0m\u001b[0;34m,\u001b[0m\u001b[0mmode\u001b[0m\u001b[0;34m=\u001b[0m\u001b[0;34m'wb'\u001b[0m\u001b[0;34m)\u001b[0m \u001b[0;32mas\u001b[0m \u001b[0mwf\u001b[0m\u001b[0;34m:\u001b[0m\u001b[0;34m\u001b[0m\u001b[0m\n\u001b[1;32m      8\u001b[0m         \u001b[0;31m#for line in rf:\u001b[0m\u001b[0;34m\u001b[0m\u001b[0;34m\u001b[0m\u001b[0m\n",
      "\u001b[0;31mFileNotFoundError\u001b[0m: [Errno 2] No such file or directory: 'test.jpeg'"
     ]
    }
   ],
   "source": [
    "# till now we worked with text files and to copy binary files we need bytes to copy , not the text\n",
    "# so the thing which we need to do is just open file in binary mode\n",
    "\n",
    "# for binary mode : read - 'rb' , write - 'wb' , append - 'ab' , readwrite - 'rb+'\n",
    "\n",
    "with open('test.jpeg',mode='rb') as rf:           # for now its showing error as i don't have this .jpeg file :P\n",
    "    with open('test_jpeg',mode='wb') as wf:\n",
    "        #for line in rf:\n",
    "            #wf.write(line)          # method - 1 \n",
    "        \n",
    "        chunk = 4096                 # method - 2\n",
    "        rf_chunk = f.read(chunk)\n",
    "        \n",
    "        while len(rf_chunk) > 0 :\n",
    "            wf.write(rf_chunk)\n",
    "            rf_chunk = f.read(chunk)"
   ]
  },
  {
   "cell_type": "code",
   "execution_count": null,
   "metadata": {
    "collapsed": true
   },
   "outputs": [],
   "source": [
    "#END"
   ]
  }
 ],
 "metadata": {
  "kernelspec": {
   "display_name": "Python 3",
   "language": "python",
   "name": "python3"
  },
  "language_info": {
   "codemirror_mode": {
    "name": "ipython",
    "version": 3
   },
   "file_extension": ".py",
   "mimetype": "text/x-python",
   "name": "python",
   "nbconvert_exporter": "python",
   "pygments_lexer": "ipython3",
   "version": "3.5.2"
  }
 },
 "nbformat": 4,
 "nbformat_minor": 2
}
