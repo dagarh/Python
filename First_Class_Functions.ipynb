{
 "cells": [
  {
   "cell_type": "code",
   "execution_count": 3,
   "metadata": {
    "collapsed": false,
    "deletable": true,
    "editable": true
   },
   "outputs": [
    {
     "name": "stdout",
     "output_type": "stream",
     "text": [
      "[1, 4, 9, 16, 25]\n",
      "[1, 8, 27, 64, 125]\n",
      "<h1>Test Headline!</h1>\n",
      "<h1>Another Headline!</h1>\n",
      "<p>Test Paragraph!</p>\n"
     ]
    }
   ],
   "source": [
    "# so here concept is function can be passed as an argument to another function and\n",
    "# one function can return another function also.\n",
    "\n",
    "\n",
    "# so functions which can be passed as an argument and returned as a result are first class functions.\n",
    "\n",
    "# so this concept is about --> we can treat functions as an objects. \n",
    "\n",
    "\n",
    "# This is a practicle example where passing a function as an argument could help\n",
    "def square(ele):\n",
    "    return ele*ele;\n",
    "\n",
    "def cube(ele):\n",
    "    return ele*ele*ele;\n",
    "\n",
    "def do_operation(fun,lst):\n",
    "    result = []\n",
    "    for ele in lst:\n",
    "        result.append(fun(ele))\n",
    "    return result\n",
    "\n",
    "print(do_operation(square,[1,2,3,4,5]))\n",
    "print(do_operation(cube,[1,2,3,4,5]))\n",
    "# concise code \n",
    "\n",
    "\n",
    "\n",
    "\n",
    "# This is a practicle example where returning a function could help \n",
    "def html_tag(tag):\n",
    "\n",
    "    def wrap_text(msg):\n",
    "        print('<{0}>{1}</{0}>'.format(tag, msg))\n",
    "\n",
    "    return wrap_text\n",
    "\n",
    "print_h1 = html_tag('h1')\n",
    "print_h1('Test Headline!')\n",
    "print_h1('Another Headline!')\n",
    "\n",
    "print_p = html_tag('p')\n",
    "print_p('Test Paragraph!')"
   ]
  }
 ],
 "metadata": {
  "kernelspec": {
   "display_name": "Python 3",
   "language": "python",
   "name": "python3"
  },
  "language_info": {
   "codemirror_mode": {
    "name": "ipython",
    "version": 3
   },
   "file_extension": ".py",
   "mimetype": "text/x-python",
   "name": "python",
   "nbconvert_exporter": "python",
   "pygments_lexer": "ipython3",
   "version": "3.5.2"
  }
 },
 "nbformat": 4,
 "nbformat_minor": 2
}
