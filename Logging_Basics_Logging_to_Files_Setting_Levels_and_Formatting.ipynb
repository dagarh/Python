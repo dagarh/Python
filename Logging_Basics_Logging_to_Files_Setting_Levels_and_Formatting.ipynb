{
 "cells": [
  {
   "cell_type": "code",
   "execution_count": 2,
   "metadata": {
    "collapsed": true
   },
   "outputs": [],
   "source": [
    "import logging\n",
    "\n",
    "# Below are the logging levels :\n",
    "\n",
    "# DEBUG: Detailed information, typically of interest only when diagnosing problems.\n",
    "\n",
    "# INFO: Confirmation that things are working as expected.\n",
    "\n",
    "# WARNING: An indication that something unexpected happened, or indicative of some problem in the near future (e.g. ‘disk space low’). The software is still working as expected.\n",
    "\n",
    "# ERROR: Due to a more serious problem, the software has not been able to perform some function.\n",
    "\n",
    "# CRITICAL: A serious error, indicating that the program itself may be unable to continue running.\n",
    "\n",
    "logging.basicConfig(filename='test.log', level=logging.DEBUG,\n",
    "                    format='%(asctime)s:%(levelname)s:%(message)s')  # look documentation for formatting specifier\n",
    "\n",
    "\n",
    "def add(x, y):\n",
    "    \"\"\"Add Function\"\"\"\n",
    "    return x + y\n",
    "\n",
    "\n",
    "def subtract(x, y):\n",
    "    \"\"\"Subtract Function\"\"\"\n",
    "    return x - y\n",
    "\n",
    "\n",
    "def multiply(x, y):\n",
    "    \"\"\"Multiply Function\"\"\"\n",
    "    return x * y\n",
    "\n",
    "\n",
    "def divide(x, y):\n",
    "    \"\"\"Divide Function\"\"\"\n",
    "    return x / y\n",
    "\n",
    "\n",
    "num_1 = 20\n",
    "num_2 = 10\n",
    "\n",
    "add_result = add(num_1, num_2)\n",
    "logging.debug('Add: {} + {} = {}'.format(num_1, num_2, add_result))\n",
    "\n",
    "sub_result = subtract(num_1, num_2)\n",
    "logging.debug('Sub: {} - {} = {}'.format(num_1, num_2, sub_result))\n",
    "\n",
    "mul_result = multiply(num_1, num_2)\n",
    "logging.debug('Mul: {} * {} = {}'.format(num_1, num_2, mul_result))\n",
    "\n",
    "div_result = divide(num_1, num_2)\n",
    "logging.debug('Div: {} / {} = {}'.format(num_1, num_2, div_result))"
   ]
  },
  {
   "cell_type": "code",
   "execution_count": 8,
   "metadata": {
    "collapsed": false
   },
   "outputs": [],
   "source": [
    "import logging\n",
    "\n",
    "logging.basicConfig(filename='employee.log', level=logging.INFO,\n",
    "                    format='%(levelname)s:%(message)s')\n",
    "\n",
    "# default logging level is always WARNING\n",
    "\n",
    "class Employee:\n",
    "    \"\"\"A sample Employee class\"\"\"\n",
    "\n",
    "    def __init__(self, first, last):\n",
    "        self.first = first\n",
    "        self.last = last\n",
    "\n",
    "        logging.info('Created Employee: {} - {}'.format(self.fullname, self.email))\n",
    "\n",
    "    @property\n",
    "    def email(self):\n",
    "        return '{}.{}@email.com'.format(self.first, self.last)\n",
    "\n",
    "    @property\n",
    "    def fullname(self):\n",
    "        return '{} {}'.format(self.first, self.last)    # string interpolation and string formatting like this is \n",
    "                                                        # same        \n",
    "\n",
    "emp_1 = Employee('John', 'Smith')\n",
    "emp_2 = Employee('Corey', 'Schafer')\n",
    "emp_3 = Employee('Jane', 'Doe')"
   ]
  },
  {
   "cell_type": "code",
   "execution_count": null,
   "metadata": {
    "collapsed": true
   },
   "outputs": [],
   "source": [
    "# CHECK log file --> it will not print to console"
   ]
  }
 ],
 "metadata": {
  "kernelspec": {
   "display_name": "Python 3",
   "language": "python",
   "name": "python3"
  },
  "language_info": {
   "codemirror_mode": {
    "name": "ipython",
    "version": 3
   },
   "file_extension": ".py",
   "mimetype": "text/x-python",
   "name": "python",
   "nbconvert_exporter": "python",
   "pygments_lexer": "ipython3",
   "version": "3.5.2"
  }
 },
 "nbformat": 4,
 "nbformat_minor": 2
}
