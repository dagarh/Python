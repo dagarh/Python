{
 "cells": [
  {
   "cell_type": "code",
   "execution_count": 8,
   "metadata": {
    "collapsed": false,
    "deletable": true,
    "editable": true
   },
   "outputs": [],
   "source": [
    "#namedtuples are more readable --> we will use this to increase the readability\n",
    "\n",
    "# everything in python is an object.\n",
    "# lists ,sets and dictionaries are mutable in python i.e they can be changed.\n",
    "# strings, tuples , int , float ,... all these are immutable. \n",
    "\n"
   ]
  },
  {
   "cell_type": "code",
   "execution_count": 9,
   "metadata": {
    "collapsed": false
   },
   "outputs": [
    {
     "name": "stdout",
     "output_type": "stream",
     "text": [
      "55 55 155\n"
     ]
    }
   ],
   "source": [
    "from collections import namedtuple\n",
    "\n",
    "# list / tuple\n",
    "color_tuple = (55,155,255)   # this is normal tuple\n",
    "\n",
    "# dictionary\n",
    "color_dict = {'red': 55, 'green': 155, 'blue': 255}   # this you may use for readability but there is lot more typing here\n",
    "\n",
    "# namedtuple\n",
    "Color = namedtuple('Color', ['red', 'green', 'blue'])\n",
    "color_oneway = Color(blue=55,green=155,red=255)\n",
    "color_anotherway = Color(55,155,255)\n",
    "\n",
    "print(color_anotherway.red ,color_anotherway[0] , color_oneway.green)"
   ]
  },
  {
   "cell_type": "code",
   "execution_count": 11,
   "metadata": {
    "collapsed": false
   },
   "outputs": [
    {
     "name": "stdout",
     "output_type": "stream",
     "text": [
      "255 255\n"
     ]
    }
   ],
   "source": [
    "from collections import namedtuple\n",
    "\n",
    "Color = namedtuple('Color', ['red', 'green', 'blue'])\n",
    "\n",
    "color = Color(55,155,255)\n",
    "white = Color(255,255,255)\n",
    "\n",
    "print(color.blue , white.blue)"
   ]
  },
  {
   "cell_type": "code",
   "execution_count": null,
   "metadata": {
    "collapsed": true
   },
   "outputs": [],
   "source": [
    "#END"
   ]
  }
 ],
 "metadata": {
  "kernelspec": {
   "display_name": "Python 3",
   "language": "python",
   "name": "python3"
  },
  "language_info": {
   "codemirror_mode": {
    "name": "ipython",
    "version": 3
   },
   "file_extension": ".py",
   "mimetype": "text/x-python",
   "name": "python",
   "nbconvert_exporter": "python",
   "pygments_lexer": "ipython3",
   "version": "3.5.2"
  }
 },
 "nbformat": 4,
 "nbformat_minor": 2
}
