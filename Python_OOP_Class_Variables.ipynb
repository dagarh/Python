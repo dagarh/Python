{
 "cells": [
  {
   "cell_type": "code",
   "execution_count": 7,
   "metadata": {
    "collapsed": false
   },
   "outputs": [
    {
     "name": "stdout",
     "output_type": "stream",
     "text": [
      "1.04\n",
      "1.04\n",
      "1.04\n",
      "{'last': 'Schafer', 'email': 'Corey.Schafer@email.com', 'pay': 50000, 'first': 'Corey'}\n",
      "{'last': 'Employee', 'email': 'Test.Employee@email.com', 'pay': 60000, 'first': 'Test'}\n",
      "{'__doc__': None, 'apply_raise': <function Employee.apply_raise at 0x7f685c3227b8>, '__dict__': <attribute '__dict__' of 'Employee' objects>, 'num_of_emps': 2, '__init__': <function Employee.__init__ at 0x7f685c322f28>, '__module__': '__main__', 'fullname': <function Employee.fullname at 0x7f685c322b70>, 'raise_amt': 1.04, '__weakref__': <attribute '__weakref__' of 'Employee' objects>}\n",
      "1.05\n",
      "1.05\n",
      "{'last': 'Schafer', 'email': 'Corey.Schafer@email.com', 'pay': 50000, 'first': 'Corey'}\n",
      "{'last': 'Employee', 'email': 'Test.Employee@email.com', 'pay': 60000, 'first': 'Test'}\n",
      "{'__doc__': None, 'apply_raise': <function Employee.apply_raise at 0x7f685c3227b8>, '__dict__': <attribute '__dict__' of 'Employee' objects>, 'num_of_emps': 2, '__init__': <function Employee.__init__ at 0x7f685c322f28>, '__module__': '__main__', 'fullname': <function Employee.fullname at 0x7f685c322b70>, 'raise_amt': 1.05, '__weakref__': <attribute '__weakref__' of 'Employee' objects>}\n",
      "1.05\n",
      "1.06\n",
      "1.05\n",
      "{'last': 'Schafer', 'raise_amt': 1.06, 'email': 'Corey.Schafer@email.com', 'pay': 50000, 'first': 'Corey'}\n",
      "{'last': 'Employee', 'email': 'Test.Employee@email.com', 'pay': 60000, 'first': 'Test'}\n",
      "{'__doc__': None, 'apply_raise': <function Employee.apply_raise at 0x7f685c3227b8>, '__dict__': <attribute '__dict__' of 'Employee' objects>, 'num_of_emps': 2, '__init__': <function Employee.__init__ at 0x7f685c322f28>, '__module__': '__main__', 'fullname': <function Employee.fullname at 0x7f685c322b70>, 'raise_amt': 1.05, '__weakref__': <attribute '__weakref__' of 'Employee' objects>}\n"
     ]
    }
   ],
   "source": [
    "class Employee:\n",
    "\n",
    "    num_of_emps = 0      # these are class variables i.e shared between all objects\n",
    "    raise_amt = 1.04   \n",
    "\n",
    "    def __init__(self, first, last, pay):\n",
    "        self.first = first\n",
    "        self.last = last\n",
    "        self.email = first + '.' + last + '@email.com'\n",
    "        self.pay = pay\n",
    "\n",
    "        Employee.num_of_emps += 1\n",
    "\n",
    "    def fullname(self):\n",
    "        return '{} {}'.format(self.first, self.last)\n",
    "\n",
    "    def apply_raise(self):\n",
    "        self.pay = int(self.pay * self.raise_amt)  # class variable has to accessed only either through class \n",
    "                                                   # name or instance name     \n",
    "\n",
    "emp_1 = Employee('Corey', 'Schafer', 50000)\n",
    "emp_2 = Employee('Test', 'Employee', 60000)\n",
    "\n",
    "print(Employee.raise_amt)\n",
    "print(emp_1.raise_amt)\n",
    "print(emp_2.raise_amt)\n",
    "\n",
    "# so whenever you access any variable via instance , it first checks whether that variable is instance variable or\n",
    "# not .If it is then good otherwise it checks in class variables . if not found there then error\n",
    "\n",
    "# namespace of an instance\n",
    "print(emp_1.__dict__)\n",
    "print(emp_2.__dict__)\n",
    "# namespace of a class\n",
    "print(Employee.__dict__)\n",
    "\n",
    "\n",
    "# if we try to change class variable like :\n",
    "Employee.raise_amt = 1.05\n",
    "# then it will change it for all instances\n",
    "print(emp_1.raise_amt)\n",
    "print(emp_2.raise_amt)\n",
    "\n",
    "\n",
    "# namespace of an instance\n",
    "print(emp_1.__dict__)\n",
    "print(emp_2.__dict__)\n",
    "# namespace of a class\n",
    "print(Employee.__dict__)\n",
    "\n",
    "\n",
    "# but if you change it via instance like :\n",
    "emp_1.raise_amt = 1.06\n",
    "# then it will add this class variable in its namespace and now for this instance it will become its instance \n",
    "# variable and value for this won't be affected for other instances.\n",
    "print(Employee.raise_amt)\n",
    "print(emp_1.raise_amt)\n",
    "print(emp_2.raise_amt)\n",
    "\n",
    "\n",
    "# namespace of an instance\n",
    "print(emp_1.__dict__)\n",
    "print(emp_2.__dict__)\n",
    "# namespace of a class\n",
    "print(Employee.__dict__)"
   ]
  },
  {
   "cell_type": "code",
   "execution_count": null,
   "metadata": {
    "collapsed": true
   },
   "outputs": [],
   "source": [
    "#END"
   ]
  }
 ],
 "metadata": {
  "kernelspec": {
   "display_name": "Python 3",
   "language": "python",
   "name": "python3"
  },
  "language_info": {
   "codemirror_mode": {
    "name": "ipython",
    "version": 3
   },
   "file_extension": ".py",
   "mimetype": "text/x-python",
   "name": "python",
   "nbconvert_exporter": "python",
   "pygments_lexer": "ipython3",
   "version": "3.5.2"
  }
 },
 "nbformat": 4,
 "nbformat_minor": 2
}
