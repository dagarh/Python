{
 "cells": [
  {
   "cell_type": "code",
   "execution_count": 6,
   "metadata": {
    "collapsed": false,
    "deletable": true,
    "editable": true
   },
   "outputs": [
    {
     "name": "stdout",
     "output_type": "stream",
     "text": [
      "Corey Schafer\n",
      "Test Employee\n",
      "Corey Schafer\n",
      "Test Employee\n"
     ]
    }
   ],
   "source": [
    "\n",
    "# one thing which i personally like about python is --> you don't have to define class variables separately ,\n",
    "# they would be created automatically at the time ofassignment.\n",
    "\n",
    "\n",
    "class Employee:\n",
    "\n",
    "    def __init__(self, first, last, pay):\n",
    "        self.first = first\n",
    "        self.last = last\n",
    "        self.email = first + '.' + last + '@email.com'\n",
    "        self.pay = pay\n",
    "\n",
    "    def fullname(self):\n",
    "        return '{} {}'.format(self.first, self.last)\n",
    "\n",
    "emp_1 = Employee('Corey', 'Schafer', 50000)    # emp_1 & emp_2 are instances of a class.\n",
    "emp_2 = Employee('Test', 'Employee', 60000)    # first,last,email,pay are instance variables \n",
    "\n",
    "# each instance has its own copy of instance variables and these are not class variables.\n",
    "\n",
    "print(emp_1.fullname())\n",
    "print(emp_2.fullname())\n",
    "print(Employee.fullname(emp_1))\n",
    "print(Employee.fullname(emp_2))\n",
    "\n",
    "#  emp_1.fullname() is internally coverted into Employee.fullname(emp_1) \n",
    "# that's why we need that self as a first parameter which will take instance of a class as an argument."
   ]
  },
  {
   "cell_type": "code",
   "execution_count": null,
   "metadata": {
    "collapsed": true,
    "deletable": true,
    "editable": true
   },
   "outputs": [],
   "source": [
    "# END"
   ]
  }
 ],
 "metadata": {
  "kernelspec": {
   "display_name": "Python 3",
   "language": "python",
   "name": "python3"
  },
  "language_info": {
   "codemirror_mode": {
    "name": "ipython",
    "version": 3
   },
   "file_extension": ".py",
   "mimetype": "text/x-python",
   "name": "python",
   "nbconvert_exporter": "python",
   "pygments_lexer": "ipython3",
   "version": "3.5.2"
  }
 },
 "nbformat": 4,
 "nbformat_minor": 2
}
