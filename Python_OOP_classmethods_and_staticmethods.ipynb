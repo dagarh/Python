{
 "cells": [
  {
   "cell_type": "code",
   "execution_count": null,
   "metadata": {
    "collapsed": true
   },
   "outputs": [],
   "source": [
    "# emp_str_1 = 'John-Doe-70000'\n",
    "# emp_str_2 = 'Steve-Smith-30000'\n",
    "# emp_str_3 = 'Jane-Doe-90000'\n",
    "\n",
    "# first, last, pay = emp_str_1.split('-')\n",
    "\n",
    "# new_emp_1 = Employee(first, last, pay)\n",
    "# new_emp_1 = Employee.from_string(emp_str_1)\n",
    "\n",
    "# print(new_emp_1.email)\n",
    "# print(new_emp_1.pay)\n",
    "\n",
    "\n",
    "\n",
    "\n",
    "\n",
    "# import datetime\n",
    "# my_date = datetime.date(2016, 7, 10)\n",
    "\n",
    "# print(Employee.is_workday(my_date))"
   ]
  }
 ],
 "metadata": {
  "kernelspec": {
   "display_name": "Python 3",
   "language": "python",
   "name": "python3"
  },
  "language_info": {
   "codemirror_mode": {
    "name": "ipython",
    "version": 3
   },
   "file_extension": ".py",
   "mimetype": "text/x-python",
   "name": "python",
   "nbconvert_exporter": "python",
   "pygments_lexer": "ipython3",
   "version": "3.5.2"
  }
 },
 "nbformat": 4,
 "nbformat_minor": 2
}
