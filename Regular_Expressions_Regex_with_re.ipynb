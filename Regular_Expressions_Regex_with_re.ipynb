{
 "cells": [
  {
   "cell_type": "code",
   "execution_count": 3,
   "metadata": {
    "scrolled": true
   },
   "outputs": [
    {
     "data": {
      "text/plain": [
       "'\\nIdentifiers :\\n\\\\d any number\\n\\\\D anything but a number\\n\\\\s space\\n\\\\S anything but a space\\n\\\\w any character\\n\\\\W anything but a character\\n. = any character\\n\\x08 the whitespace around words\\n\\\\. a period\\n\\nModifiers:\\n{1,3} we\\'re expecting 1-3\\n+ Match 1 or more\\n? Match 0 or 1\\n* Match 0 or more\\n$ match the end of a string\\n^ matching the beginning of a string\\n| either or\\n[] range or \"variance\"\\n[x] expecting \"x\" amount\\n\\nWhite Space Characters:\\n\\n new line\\n\\\\s space\\n\\t tab\\n\\\\e escape\\n\\x0c form feed\\n\\r carriage return\\n\\n'"
      ]
     },
     "execution_count": 3,
     "metadata": {},
     "output_type": "execute_result"
    }
   ],
   "source": [
    "\"\"\"\n",
    "Identifiers :\n",
    "\\d any number(digit)\n",
    "\\D anything but not a number\n",
    "\\s whitespace\n",
    "\\S anything but not a whitespace\n",
    "\\w word character --> [0-9][a-z][A-Z][_]  # word character is different than alphabetic character\n",
    "\\W anything but not a character\n",
    ". = any character\n",
    "\\b the whitespace around words\n",
    "\\. a period\n",
    "\n",
    "Modifiers:\n",
    "{1,3} we're expecting 1-3\n",
    "+ Match 1 or more\n",
    "? Match 0 or 1\n",
    "* Match 0 or more\n",
    "$ match the end of a string\n",
    "^ matching the beginning of a string\n",
    "| either or\n",
    "[] range or \"variance\" [1-5a-zA-Z]\n",
    "[x] expecting \"x\" amount\n",
    "() for groups\n",
    "\n",
    "White Space Characters:\n",
    "\\n new line\n",
    "\\s space\n",
    "\\t tab\n",
    "\\e escape\n",
    "\\f form feed\n",
    "\\r carriage return\n",
    "\n",
    "\"\"\""
   ]
  },
  {
   "cell_type": "code",
   "execution_count": 3,
   "metadata": {},
   "outputs": [
    {
     "name": "stdout",
     "output_type": "stream",
     "text": [
      "ig\n",
      "not found\n",
      "iiig\n",
      "not found\n",
      "not found\n",
      "iig\n",
      "yzgs\n",
      "c.l\n",
      ":cat\n",
      "123\n",
      "1 2 3\n",
      "1   2   3\n",
      ":kitten\n",
      ":kitten\n",
      ":kitten123123_\n",
      ":kitten123123&a=123&yatta\n",
      "p@gmail\n",
      "nick.p@gmail\n",
      "nick.p@gmail.com\n",
      ".nick.p@gmail.com\n",
      "nick.p@gmail.com\n",
      "nick.p@gmail.com\n",
      "nick.p\n",
      "gmail.com\n",
      "['nick.p@gmail.com', 'foo@bar']\n",
      "[('nick.p', 'gmail.com'), ('foo', 'bar')]\n",
      "[('nick.p', 'gmail.com'), ('foo', 'bar')]\n"
     ]
    }
   ],
   "source": [
    "'''\n",
    "re.search(pattern , text)\n",
    "re.findall(r'pattern',text)\n",
    "'''\n",
    "\n",
    "def Find(pat,text):\n",
    "    match = re.search(pat,text)\n",
    "    if match:print(match.group())\n",
    "    else : print('not found')\n",
    "Find('ig','called piiig')\n",
    "Find('igs','called piiig')\n",
    "\n",
    "Find('...g','called piiig')\n",
    "Find('x...g','called piiig')\n",
    "Find('..gs','called piiig')\n",
    "\n",
    "Find('..g','called piiig much better: xyzg')\n",
    "Find('..gs','called piiig much better: xyzgs')\n",
    "\n",
    "# so seach goes from left to right , once it finds solution it does not go ahead.\n",
    "\n",
    "Find(r'c\\.l','c.lled piiig much better: xyzgs')\n",
    "# r'c\\.l' --> this r is added just to tell that it is a raw string and hence don't do any preprocessing with back\n",
    "# slahes as many languages do that.Hence we want to send it as it is in a raw form. \n",
    "# So this r freezes to do any kind of preprocessing with backslahes and hence we should always use this.\n",
    "\n",
    "Find(r':\\w\\w\\w','blah :cat blah blah')\n",
    "Find(r'\\d\\d\\d','blah :123xxx ')\n",
    "\n",
    "Find(r'\\d\\s\\d\\s\\d','1 2 3')\n",
    "\n",
    "Find(r'\\d\\s+\\d\\s+\\d','1   2   3')\n",
    "\n",
    "Find(r':\\w+','blah blah :kitten blabh blah') # space is not a word character\n",
    "\n",
    "Find(r':\\w+','blah blah :kitten& blabh blah')# & is not a word character\n",
    " \n",
    "Find(r':\\w+','blah blah :kitten123123_& blabh blah') \n",
    "\n",
    "Find(r':\\S+' , 'blah blah :kitten123123&a=123&yatta blabh blah')\n",
    "\n",
    "Find(r'\\w+@\\w+','blah nick.p@gmail.com yatta @ ')\n",
    "# for extracting email from text\n",
    "\n",
    "Find(r'[\\w.]+@\\w+','blah nick.p@gmail.com yatta @ ')\n",
    "# dot inside a square bracket is just a normal dot --> inside square bracket it does not mean that any character.\n",
    "# \\.  is equivalent to [.]\n",
    "\n",
    "Find(r'[\\w.]+@[\\w.]+','blah nick.p@gmail.com yatta @ ')\n",
    "\n",
    "Find(r'[\\w.]+@[\\w.]+','blah .nick.p@gmail.com yatta @ ')\n",
    "# inside a square bracket order doesn't matter\n",
    "\n",
    "Find(r'\\w[\\w.]*@[\\w.]+','blah .nick.p@gmail.com yatta @ ')\n",
    "\n",
    "m = re.search(r'([\\w.]+)@([\\w.]+)','blah nick.p@gmail.com yatta @ ')\n",
    "print(m.group())\n",
    "print(m.group(1)) # user name\n",
    "print(m.group(2)) # host   # possible because of paranthesis\n",
    "\n",
    "print(re.findall(r'[\\w.]+@[\\w.]+','blah nick.p@gmail.com yatta foo@bar '))\n",
    "\n",
    "print(re.findall(r'([\\w.]+)@([\\w.]+)','blah nick.p@gmail.com yatta foo@bar '))\n",
    "\n",
    "print(re.findall(r'([\\w.]+)@([\\w.]+)','blah nick.p@gmail.com yatta foo@bar ',re.IGNORECASE))"
   ]
  },
  {
   "cell_type": "code",
   "execution_count": 2,
   "metadata": {},
   "outputs": [
    {
     "name": "stdout",
     "output_type": "stream",
     "text": [
      "['15', '27', '97', '102']\n",
      "['Jessica', 'Daniel', 'Edward', 'Oscar']\n"
     ]
    }
   ],
   "source": [
    "import re\n",
    "\n",
    "exampleString = '''\n",
    "Jessica is 15 years old, and Daniel is 27 years old.\n",
    "Edward is 97, and his grandfather, Oscar , is 102.\n",
    "'''\n",
    "\n",
    "ages = re.findall(r'\\d{1,3}',exampleString)\n",
    "names = re.findall(r'[A-Z][a-z]*',exampleString)\n",
    "\n",
    "print(ages)\n",
    "print(names)"
   ]
  },
  {
   "cell_type": "code",
   "execution_count": null,
   "metadata": {},
   "outputs": [],
   "source": [
    "# Other ways of doing same thing is :"
   ]
  },
  {
   "cell_type": "code",
   "execution_count": 10,
   "metadata": {},
   "outputs": [],
   "source": [
    "pattern = re.compile(r'pattern\\.')"
   ]
  },
  {
   "cell_type": "code",
   "execution_count": 11,
   "metadata": {},
   "outputs": [],
   "source": [
    "matches = pattern.finditer('pattern.com')"
   ]
  },
  {
   "cell_type": "code",
   "execution_count": 12,
   "metadata": {},
   "outputs": [
    {
     "name": "stdout",
     "output_type": "stream",
     "text": [
      "<_sre.SRE_Match object; span=(0, 8), match='pattern.'>\n"
     ]
    }
   ],
   "source": [
    "for match in matches:\n",
    "    print(match)"
   ]
  },
  {
   "cell_type": "code",
   "execution_count": 14,
   "metadata": {},
   "outputs": [
    {
     "data": {
      "text/plain": [
       "'\\n\\nmatch.group(0)    ----  complete matched text\\nmatch.group(1)    ----  first group\\nmatch.group(2)    ----  second group\\nand so on....\\n\\n'"
      ]
     },
     "execution_count": 14,
     "metadata": {},
     "output_type": "execute_result"
    }
   ],
   "source": [
    "# there is also .group() function you can call on match object\n",
    "'''\n",
    "\n",
    "match.group(0)    ----  complete matched text\n",
    "match.group(1)    ----  first group\n",
    "match.group(2)    ----  second group\n",
    "and so on....\n",
    "\n",
    "'''"
   ]
  },
  {
   "cell_type": "code",
   "execution_count": 15,
   "metadata": {},
   "outputs": [],
   "source": [
    "# there is one more thing : to replace within inplace   :)"
   ]
  },
  {
   "cell_type": "code",
   "execution_count": 17,
   "metadata": {},
   "outputs": [],
   "source": [
    "urls = '''\n",
    "    https://www.google.com\n",
    "    https://coreyms.com\n",
    "    https://youtube.com\n",
    "    https://www.nasa.gov\n",
    "'''"
   ]
  },
  {
   "cell_type": "code",
   "execution_count": 18,
   "metadata": {},
   "outputs": [],
   "source": [
    "pattern = re.compile(r'https?://(www\\.)?(\\w+)(\\.\\w+)')"
   ]
  },
  {
   "cell_type": "code",
   "execution_count": 19,
   "metadata": {},
   "outputs": [],
   "source": [
    "subbed_urls = pattern.sub(r'\\2\\3',urls)"
   ]
  },
  {
   "cell_type": "code",
   "execution_count": 20,
   "metadata": {},
   "outputs": [
    {
     "name": "stdout",
     "output_type": "stream",
     "text": [
      "\n",
      "    google.com\n",
      "    coreyms.com\n",
      "    youtube.com\n",
      "    nasa.gov\n",
      "\n"
     ]
    }
   ],
   "source": [
    "print(subbed_urls)"
   ]
  },
  {
   "cell_type": "code",
   "execution_count": null,
   "metadata": {
    "collapsed": true
   },
   "outputs": [],
   "source": [
    "# END"
   ]
  }
 ],
 "metadata": {
  "kernelspec": {
   "display_name": "Python 3",
   "language": "python",
   "name": "python3"
  },
  "language_info": {
   "codemirror_mode": {
    "name": "ipython",
    "version": 3
   },
   "file_extension": ".py",
   "mimetype": "text/x-python",
   "name": "python",
   "nbconvert_exporter": "python",
   "pygments_lexer": "ipython3",
   "version": "3.6.4"
  }
 },
 "nbformat": 4,
 "nbformat_minor": 2
}
