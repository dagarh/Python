{
 "cells": [
  {
   "cell_type": "code",
   "execution_count": 3,
   "metadata": {
    "collapsed": false
   },
   "outputs": [
    {
     "data": {
      "text/plain": [
       "'\\nIdentifiers :\\n\\\\d any number\\n\\\\D anything but a number\\n\\\\s space\\n\\\\S anything but a space\\n\\\\w any character\\n\\\\W anything but a character\\n. = any character\\n\\x08 the whitespace around words\\n\\\\. a period\\n\\nModifiers:\\n{1,3} we\\'re expecting 1-3\\n+ Match 1 or more\\n? Match 0 or 1\\n* Match 0 or more\\n$ match the end of a string\\n^ matching the beginning of a string\\n| either or\\n[] range or \"variance\"\\n[x] expecting \"x\" amount\\n\\nWhite Space Characters:\\n\\n new line\\n\\\\s space\\n\\t tab\\n\\\\e escape\\n\\x0c form feed\\n\\r carriage return\\n\\n'"
      ]
     },
     "execution_count": 3,
     "metadata": {},
     "output_type": "execute_result"
    }
   ],
   "source": [
    "\"\"\"\n",
    "Identifiers :\n",
    "\\d any number\n",
    "\\D anything but a number\n",
    "\\s space\n",
    "\\S anything but a space\n",
    "\\w any character\n",
    "\\W anything but a character\n",
    ". = any character\n",
    "\\b the whitespace around words\n",
    "\\. a period\n",
    "\n",
    "Modifiers:\n",
    "{1,3} we're expecting 1-3\n",
    "+ Match 1 or more\n",
    "? Match 0 or 1\n",
    "* Match 0 or more\n",
    "$ match the end of a string\n",
    "^ matching the beginning of a string\n",
    "| either or\n",
    "[] range or \"variance\" [1-5a-zA-Z]\n",
    "[x] expecting \"x\" amount\n",
    "\n",
    "White Space Characters:\n",
    "\\n new line\n",
    "\\s space\n",
    "\\t tab\n",
    "\\e escape\n",
    "\\f form feed\n",
    "\\r carriage return\n",
    "\n",
    "\"\"\""
   ]
  },
  {
   "cell_type": "code",
   "execution_count": null,
   "metadata": {
    "collapsed": true
   },
   "outputs": [],
   "source": []
  },
  {
   "cell_type": "code",
   "execution_count": 10,
   "metadata": {
    "collapsed": false
   },
   "outputs": [
    {
     "name": "stdout",
     "output_type": "stream",
     "text": [
      "['15', '27', '97', '102']\n",
      "['Jessica', 'Daniel', 'Edward', 'Oscar']\n"
     ]
    }
   ],
   "source": [
    "import re\n",
    "\n",
    "exampleString = '''\n",
    "Jessica is 15 years old, and Daniel is 27 years old.\n",
    "Edward is 97, and his grandfather, Oscar , is 102.\n",
    "'''\n",
    "\n",
    "ages = re.findall(r'\\d{1,3}',exampleString)\n",
    "names = re.findall(r'[A-Z][a-z]*',exampleString)\n",
    "\n",
    "print(ages)\n",
    "print(names)"
   ]
  }
 ],
 "metadata": {
  "kernelspec": {
   "display_name": "Python 3",
   "language": "python",
   "name": "python3"
  },
  "language_info": {
   "codemirror_mode": {
    "name": "ipython",
    "version": 3
   },
   "file_extension": ".py",
   "mimetype": "text/x-python",
   "name": "python",
   "nbconvert_exporter": "python",
   "pygments_lexer": "ipython3",
   "version": "3.5.2"
  }
 },
 "nbformat": 4,
 "nbformat_minor": 2
}
