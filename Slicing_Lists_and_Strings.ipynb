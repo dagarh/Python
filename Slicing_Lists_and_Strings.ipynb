{
 "cells": [
  {
   "cell_type": "code",
   "execution_count": 40,
   "metadata": {
    "code_folding": [],
    "collapsed": false,
    "deletable": true,
    "editable": true,
    "scrolled": true
   },
   "outputs": [
    {
     "name": "stdout",
     "output_type": "stream",
     "text": [
      "True\n",
      "0 9 0\n",
      "[9, 8, 7, 6, 5, 4, 3, 2, 1, 0]\n",
      "[3, 4, 5, 6]\n",
      "[]\n",
      "[2, 3, 4, 5, 6, 7, 8]\n",
      "[1, 2, 3, 4, 5, 6, 7, 8, 9]\n",
      "[0, 1, 2, 3, 4, 5, 6, 7]\n",
      "[0, 1, 2, 3, 4, 5, 6, 7, 8, 9]\n",
      "[2, 3, 4, 5, 6, 7, 8]\n",
      "[2, 4, 6, 8]\n",
      "[]\n",
      "[8, 7, 6, 5, 4, 3]\n",
      "[]\n"
     ]
    }
   ],
   "source": [
    "my_list = [0, 1, 2, 3, 4, 5, 6, 7, 8, 9]\n",
    "#          0, 1, 2, 3, 4, 5, 6, 7, 8, 9     (these are indices)                                               \n",
    "#        -10,-9,-8,-7,-6,-5,-4,-3,-2,-1\n",
    "\n",
    "# list[start:end:step]     end is non-inclusive\n",
    " \n",
    "if my_list[0]==my_list[-10]:\n",
    "    print(True)\n",
    "\n",
    "print(my_list[0],my_list[-1],my_list[-10])\n",
    "print(my_list[::-1]) # printing in reverse order\n",
    "print(my_list[3:7])\n",
    "print(my_list[-1:-8])\n",
    "print(my_list[-8:-1])\n",
    "print(my_list[1:])\n",
    "print(my_list[:8])\n",
    "print(my_list[:])  # printing entire list\n",
    "print(my_list[2:-1])\n",
    "print(my_list[2:-1:2])\n",
    "print(my_list[-8:-2:-1])\n",
    "print(my_list[-2:-8:-1])\n",
    "print(my_list[-2:-8:1])\n"
   ]
  },
  {
   "cell_type": "code",
   "execution_count": 41,
   "metadata": {
    "collapsed": false,
    "deletable": true,
    "editable": true
   },
   "outputs": [
    {
     "name": "stdout",
     "output_type": "stream",
     "text": [
      "http://coreyms.com\n",
      "moc.smyeroc//:ptth\n",
      ".com\n",
      "coreyms.com\n",
      "coreyms\n"
     ]
    }
   ],
   "source": [
    "sample_url = 'http://coreyms.com'\n",
    "print(sample_url)\n",
    "\n",
    "# Reverse the url\n",
    "print(sample_url[::-1])\n",
    "\n",
    "#  Get the top level domain (.com)\n",
    "print(sample_url[-4:])\n",
    "\n",
    "# Print the url without the http://\n",
    "print(sample_url[7:])\n",
    "\n",
    "# # Print the url without the http:// or the top level domain\n",
    "print(sample_url[7:-4])"
   ]
  },
  {
   "cell_type": "code",
   "execution_count": 42,
   "metadata": {
    "collapsed": true,
    "deletable": true,
    "editable": true
   },
   "outputs": [],
   "source": [
    "# That's end"
   ]
  }
 ],
 "metadata": {
  "kernelspec": {
   "display_name": "Python 3",
   "language": "python",
   "name": "python3"
  },
  "language_info": {
   "codemirror_mode": {
    "name": "ipython",
    "version": 3
   },
   "file_extension": ".py",
   "mimetype": "text/x-python",
   "name": "python",
   "nbconvert_exporter": "python",
   "pygments_lexer": "ipython3",
   "version": "3.5.2"
  }
 },
 "nbformat": 4,
 "nbformat_minor": 2
}
