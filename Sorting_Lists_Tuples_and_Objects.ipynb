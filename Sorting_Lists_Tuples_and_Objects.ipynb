{
 "cells": [
  {
   "cell_type": "code",
   "execution_count": 8,
   "metadata": {
    "collapsed": false,
    "deletable": true,
    "editable": true
   },
   "outputs": [
    {
     "name": "stdout",
     "output_type": "stream",
     "text": [
      "The sorted list :  [1, 2, 4, 5, 7, 8, 9]\n",
      "Original list :  [2, 5, 9, 8, 7, 4, 1]\n",
      "Sorted list inplace :  [1, 2, 4, 5, 7, 8, 9]\n",
      "None\n"
     ]
    }
   ],
   "source": [
    "li = [2,5,9,8,7,4,1]\n",
    "\n",
    "s_li = sorted(li)   # here by-defaul reverse=False\n",
    "\n",
    "print('The sorted list : ',s_li)\n",
    "print('Original list : ',li)\n",
    "\n",
    "li.sort()      # it returns None\n",
    "print('Sorted list inplace : ',li)\n",
    "\n",
    "print(li.sort())"
   ]
  },
  {
   "cell_type": "code",
   "execution_count": 11,
   "metadata": {
    "collapsed": false,
    "deletable": true,
    "editable": true
   },
   "outputs": [
    {
     "name": "stdout",
     "output_type": "stream",
     "text": [
      "[7, 6, 5, 4, 3, 2, 1]\n",
      "[1, 2, 3, 4, 5, 6, 7]\n",
      "[7, 6, 5, 4, 3, 2, 1]\n"
     ]
    }
   ],
   "source": [
    "# sorting list in descending order\n",
    "lis = [1,2,3,4,5,6,7]\n",
    "\n",
    "s_li_r = sorted(lis,reverse=True)\n",
    "\n",
    "print(s_li_r)\n",
    "print(lis)\n",
    "\n",
    "lis.sort(reverse=True)   # sorted inplace\n",
    "\n",
    "print(lis)   "
   ]
  },
  {
   "cell_type": "code",
   "execution_count": 15,
   "metadata": {
    "collapsed": false,
    "deletable": true,
    "editable": true
   },
   "outputs": [
    {
     "name": "stdout",
     "output_type": "stream",
     "text": [
      "Sorted Tuple :  [1, 2, 4, 5, 6, 7, 8, 9]\n"
     ]
    }
   ],
   "source": [
    "tup = (2,6,5,4,1,9,8,7)\n",
    "\n",
    "# on tuple and dict we don't have sort() method unlike list so we will stick with sorted() function. \n",
    "# and that's the power of sorted() function.\n",
    "\n",
    "s_tup = sorted(tup)   # this function always returns a list irrespective of iterable type you pass as input.\n",
    "\n",
    "print('Sorted Tuple : ',s_tup)  "
   ]
  },
  {
   "cell_type": "code",
   "execution_count": 19,
   "metadata": {
    "collapsed": false,
    "deletable": true,
    "editable": true
   },
   "outputs": [
    {
     "name": "stdout",
     "output_type": "stream",
     "text": [
      "['age', 'job', 'name', 'os']\n",
      "age 23\n",
      "job Developer\n",
      "name Himanshu\n",
      "os ubuntu\n"
     ]
    }
   ],
   "source": [
    "dic = {'name' : 'Himanshu','job' : 'Developer' , 'age' : '23', 'os' : 'ubuntu'}\n",
    "\n",
    "s_dic = sorted(dic)  # sorts based on key of dictionary and returns sorted list of keys\n",
    "\n",
    "print(s_dic)\n",
    "\n",
    "# we can print dictionary \n",
    "for key in s_dic:\n",
    "    print(key,dic[key])"
   ]
  },
  {
   "cell_type": "code",
   "execution_count": 22,
   "metadata": {
    "collapsed": false,
    "deletable": true,
    "editable": true
   },
   "outputs": [
    {
     "name": "stdout",
     "output_type": "stream",
     "text": [
      "[1, 2, 3, -4, 4, -5, -6]\n"
     ]
    }
   ],
   "source": [
    "# what if you wanna sort the list elements on some other criteria like sort based on absolute values\n",
    "li = [-6,-5,-4,1,2,4,3]\n",
    "\n",
    "s_li = sorted(li,key = lambda ele:abs(ele))\n",
    "\n",
    "print(s_li)"
   ]
  },
  {
   "cell_type": "code",
   "execution_count": 74,
   "metadata": {
    "collapsed": false
   },
   "outputs": [
    {
     "name": "stdout",
     "output_type": "stream",
     "text": [
      "[-1, 1, 2, 3, -3, -4, 4, -6, -9]\n"
     ]
    }
   ],
   "source": [
    "# other way\n",
    "\n",
    "def custom(key):\n",
    "    return abs(key)\n",
    "\n",
    "li = [-6,-4,-9,-1,4,3,-3,2,1]\n",
    "s_li = sorted(li,key=custom)     # It is stable sorting i.e sorted() method always sorts in stable way.\n",
    "# s_li = sorted(li,key=abs)       # You can also do it like this as abs function is built-in so it knows what to do\n",
    "print(s_li)\n",
    "\n"
   ]
  },
  {
   "cell_type": "code",
   "execution_count": 91,
   "metadata": {
    "collapsed": false
   },
   "outputs": [
    {
     "name": "stdout",
     "output_type": "stream",
     "text": [
      "Name : Sumit , Age : 30 , Salary : $100000\n",
      "[Name : Himanshu , Age : 23 , Salary : $1000, Name : Deepanshu , Age : 24 , Salary : $10000, Name : Sumit , Age : 30 , Salary : $100000]\n"
     ]
    }
   ],
   "source": [
    "class Employee():\n",
    "    def __init__(self,name1,age1,salary1):       # Constructor  __inti__()  , 'self' is similar to 'this' in java\n",
    "        self.name=name1                          # we have to specifically mention self parameter as first parameter for many functions in python \n",
    "        self.age = age1\n",
    "        self.salary = salary1\n",
    "        \n",
    "    def __repr__(self):         # this __repr__ is used to tell how we want to print the object , we can also use __str__(self)  \n",
    "        return('Name : {0} , Age : {1} , Salary : ${2}'.format(self.name,self.age,self.salary))\n",
    "        # This is new way of string formatting , you should use this , instead of using [\"\" % () ]. \n",
    "    \n",
    "def custom(e):\n",
    "    return e.age\n",
    "\n",
    "e1 = Employee(\"Sumit\",30,100000)\n",
    "e2 = Employee(\"Himanshu\",23,1000)\n",
    "e3 = Employee(\"Deepanshu\",24,10000)\n",
    "\n",
    "\n",
    "print(e1)  # it internally calls __repr__(self) , it knows what to do with object\n",
    "\n",
    "li = [e1, e2 ,e3]\n",
    "\n",
    "s_li = sorted(li,key=custom)                  # method - 1   (more flexible down the road)\n",
    "s_li = sorted(li , reverse=True,key=lambda e: e.salary)  # method - 2\n",
    "\n",
    "from operator import attrgetter\n",
    "s_li = sorted(li , key = attrgetter('salary'))       # method - 3\n",
    "\n",
    "print(s_li)\n",
    "\n",
    "\n"
   ]
  },
  {
   "cell_type": "code",
   "execution_count": null,
   "metadata": {
    "collapsed": true
   },
   "outputs": [],
   "source": [
    "# END"
   ]
  }
 ],
 "metadata": {
  "kernelspec": {
   "display_name": "Python 3",
   "language": "python",
   "name": "python3"
  },
  "language_info": {
   "codemirror_mode": {
    "name": "ipython",
    "version": 3
   },
   "file_extension": ".py",
   "mimetype": "text/x-python",
   "name": "python",
   "nbconvert_exporter": "python",
   "pygments_lexer": "ipython3",
   "version": "3.5.2"
  }
 },
 "nbformat": 4,
 "nbformat_minor": 2
}
