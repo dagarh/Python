{
 "cells": [
  {
   "cell_type": "code",
   "execution_count": 5,
   "metadata": {
    "collapsed": false
   },
   "outputs": [
    {
     "name": "stdout",
     "output_type": "stream",
     "text": [
      "My name is Jenn and I am 23 years old.\n",
      "My name is Jenn and I am 23 years old.\n",
      "My name is Jenn and I am 23 years old.\n"
     ]
    }
   ],
   "source": [
    "person = {'name': 'Jenn', 'age': 23}\n",
    "\n",
    "sentence = 'My name is ' + person['name'] + ' and I am ' + str(person['age']) + ' years old.'\n",
    "print(sentence)\n",
    "# This is one way of string formatting\n",
    "# But it is very unreadable , so there is a much better way of doing string formatting.\n",
    "\n",
    "sentence = 'My name is {} and I am {} years old.'.format(person['name'], person['age'])\n",
    "print(sentence)   # {} -- called as place holders\n",
    "\n",
    "\n",
    "sentence = 'My name is {0} and I am {1} years old.'.format(person['name'], person['age'])\n",
    "print(sentence)"
   ]
  },
  {
   "cell_type": "code",
   "execution_count": 7,
   "metadata": {
    "collapsed": false
   },
   "outputs": [
    {
     "name": "stdout",
     "output_type": "stream",
     "text": [
      "<h1>This is a headline</h1>\n"
     ]
    }
   ],
   "source": [
    "tag = 'h1'\n",
    "text = 'This is a headline'\n",
    "\n",
    "sentence = '<{0}>{1}</{0}>'.format(tag, text)\n",
    "print(sentence)"
   ]
  },
  {
   "cell_type": "code",
   "execution_count": 16,
   "metadata": {
    "collapsed": false
   },
   "outputs": [
    {
     "name": "stdout",
     "output_type": "stream",
     "text": [
      "My name is Jenn and I am 23 years old.\n",
      "My name is Jenn and I am 23 years old.\n"
     ]
    }
   ],
   "source": [
    "sentence = 'My name is {0[name]} and I am {0[age]} years old.'.format(person)\n",
    "print(sentence)    # This is how we can also do formatting.\n",
    "\n",
    "li = ['Jenn',23]\n",
    "sentence = 'My name is {0[0]} and I am {0[1]} years old.'.format(li)\n",
    "print(sentence)    # It is correct :)"
   ]
  },
  {
   "cell_type": "code",
   "execution_count": 21,
   "metadata": {
    "collapsed": false
   },
   "outputs": [
    {
     "name": "stdout",
     "output_type": "stream",
     "text": [
      "My name is Jack and I am 33 years old.\n"
     ]
    }
   ],
   "source": [
    "class Person():\n",
    "\n",
    "    def __init__(self, name, age):\n",
    "        self.name = name\n",
    "        self.age = age\n",
    "\n",
    "p1 = Person('Jack', '33')\n",
    "\n",
    "sentence = 'My name is {0.name} and I am {0.age} years old.'.format(p1)\n",
    "print(sentence)    # so one thing which you have to remember here is replace whatever is there in format and then think \n",
    "                   # whether it is correct or not. "
   ]
  },
  {
   "cell_type": "code",
   "execution_count": 23,
   "metadata": {
    "collapsed": false
   },
   "outputs": [
    {
     "name": "stdout",
     "output_type": "stream",
     "text": [
      "My name is Jenn and I am 30 years old.\n",
      "My name is Jenn and I am 23 years old.\n"
     ]
    }
   ],
   "source": [
    "person = {'name': 'Jenn', 'age': 23}\n",
    "\n",
    "sentence = 'My name is {name} and I am {age} years old.'.format(name='Jenn', age='30')\n",
    "print(sentence)\n",
    "\n",
    "sentence = 'My name is {name} and I am {age} years old.'.format(**person)\n",
    "print(sentence)"
   ]
  },
  {
   "cell_type": "code",
   "execution_count": 50,
   "metadata": {
    "collapsed": false
   },
   "outputs": [
    {
     "name": "stdout",
     "output_type": "stream",
     "text": [
      "The value is 001\n",
      "The value is 002\n",
      "The value is 003\n",
      "The value is 004\n",
      "The value is 005\n",
      "The value is 006\n",
      "The value is 007\n",
      "The value is 008\n",
      "The value is 009\n",
      "The value is 010\n",
      "Pi is equal to 3.142\n"
     ]
    }
   ],
   "source": [
    "for i in range(1, 11): \n",
    "    sentence = 'The value is {:03}'.format(i)    # you can add formatting to the placeholders like this for integers.\n",
    "    print(sentence)\n",
    "\n",
    "\n",
    "pi = 3.14159265\n",
    "sentence = 'Pi is equal to {:.3f}'.format(pi)    # formatting to placeholders for decimal places.\n",
    "print(sentence)"
   ]
  },
  {
   "cell_type": "code",
   "execution_count": 61,
   "metadata": {
    "collapsed": false,
    "scrolled": true
   },
   "outputs": [
    {
     "name": "stdout",
     "output_type": "stream",
     "text": [
      "1 MB is equal to 1,000,000.00 bytes\n",
      "2016-09-24 12:30:45\n",
      "September 24, 2016\n",
      "September 24, 2016 fell on a Saturday and was the 268 day of the year\n"
     ]
    }
   ],
   "source": [
    "sentence = '1 MB is equal to {:,.2f} bytes'.format(1000**2)  # : is for formatting  (2 formattings together) \n",
    "print(sentence)\n",
    "\n",
    "\n",
    "import datetime\n",
    "my_date = datetime.datetime(2016, 9, 24, 12, 30, 45)\n",
    "print(my_date)\n",
    "\n",
    "# if you wanna do some formatting on datetime object you can do that \n",
    "# March 01, 2016\n",
    "sentence = '{:%B %d, %Y}'.format(my_date)\n",
    "print(sentence)\n",
    "\n",
    "\n",
    "# you can look up at documentation of datetime to get these format specifiers inside placeholders to apply formatting\n",
    "\n",
    "# March 01, 2016 fell on a Tuesday and was the 061 day of the year.\n",
    "sentence = '{0:%B %d, %Y} fell on a {0:%A} and was the {0:%j} day of the year'.format(my_date)\n",
    "print(sentence)\n"
   ]
  }
 ],
 "metadata": {
  "kernelspec": {
   "display_name": "Python 3",
   "language": "python",
   "name": "python3"
  },
  "language_info": {
   "codemirror_mode": {
    "name": "ipython",
    "version": 3
   },
   "file_extension": ".py",
   "mimetype": "text/x-python",
   "name": "python",
   "nbconvert_exporter": "python",
   "pygments_lexer": "ipython3",
   "version": "3.5.2"
  }
 },
 "nbformat": 4,
 "nbformat_minor": 2
}
