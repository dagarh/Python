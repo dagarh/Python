{
 "cells": [
  {
   "cell_type": "code",
   "execution_count": null,
   "metadata": {
    "collapsed": true,
    "deletable": true,
    "editable": true
   },
   "outputs": [],
   "source": []
  },
  {
   "cell_type": "code",
   "execution_count": 4,
   "metadata": {
    "collapsed": false,
    "deletable": true,
    "editable": true
   },
   "outputs": [
    {
     "name": "stdout",
     "output_type": "stream",
     "text": [
      "[Errno 2] No such file or directory: 'curruptfile.txt'\n",
      "Executing Finally...\n",
      "End of program\n"
     ]
    }
   ],
   "source": [
    "try:\n",
    "    f = open('curruptfile.txt')\n",
    "    # if f.name == 'currupt_file.txt':\n",
    "    #     raise Exception\n",
    "except FileNotFoundError as e:      \n",
    "    print(e)\n",
    "except IOError as e:\n",
    "    print('First!')\n",
    "except Exception as e:\n",
    "    print('Second')\n",
    "else:\n",
    "    print(f.read())\n",
    "    f.close()\n",
    "finally:\n",
    "    print(\"Executing Finally...\")\n",
    "\n",
    "print('End of program')\n",
    "\n",
    "# you can have multiple except blocks and you have to arrange them in such a way that more Special Exception must \n",
    "# be at the top and more General Exception must be at the bottom otherwise someblocks would become unreachable.\n",
    "\n",
    "# if any exception/error comes in try block then it will be caught in except block and will show custom message but\n",
    "# if not caught then it will generate its own python message.\n",
    "\n",
    "# else block would be executed only when there is no exception/error occurred ,so we will put that stuff inside \n",
    "# else block which we want to execute only when there is no exception.\n",
    "\n",
    "# finally block would be executed every time irrespective of exception/error. so put that stuff which you want to\n",
    "# execute every time whether exception occurred or not.(eg: db connection close and many more....)\n",
    "\n",
    "#once we handle exception using except block then normal execution flow doesn't break.\n",
    "\n",
    "# using raise you can manually/forcefully throw an exception"
   ]
  },
  {
   "cell_type": "code",
   "execution_count": 5,
   "metadata": {
    "collapsed": true,
    "deletable": true,
    "editable": true
   },
   "outputs": [],
   "source": [
    "#END"
   ]
  }
 ],
 "metadata": {
  "kernelspec": {
   "display_name": "Python 3",
   "language": "python",
   "name": "python3"
  },
  "language_info": {
   "codemirror_mode": {
    "name": "ipython",
    "version": 3
   },
   "file_extension": ".py",
   "mimetype": "text/x-python",
   "name": "python",
   "nbconvert_exporter": "python",
   "pygments_lexer": "ipython3",
   "version": "3.5.2"
  }
 },
 "nbformat": 4,
 "nbformat_minor": 2
}
