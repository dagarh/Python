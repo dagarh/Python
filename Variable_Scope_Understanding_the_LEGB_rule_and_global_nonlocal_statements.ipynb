{
 "cells": [
  {
   "cell_type": "code",
   "execution_count": 5,
   "metadata": {
    "collapsed": false,
    "deletable": true,
    "editable": true
   },
   "outputs": [
    {
     "name": "stdout",
     "output_type": "stream",
     "text": [
      "local_y\n",
      "global_x\n"
     ]
    }
   ],
   "source": [
    "# LEGB Rule \n",
    "# Local , Enclosing ,Global , Built-in \n",
    "\n",
    "x = 'global_x'\n",
    "\n",
    "def test():\n",
    "    y='local_y'\n",
    "    print(y)\n",
    "\n",
    "test()\n",
    "print(x)\n",
    "# print(y)  -- Error as y is defined only locally"
   ]
  },
  {
   "cell_type": "code",
   "execution_count": 7,
   "metadata": {
    "collapsed": false,
    "deletable": true,
    "editable": true
   },
   "outputs": [
    {
     "name": "stdout",
     "output_type": "stream",
     "text": [
      "local_x\n",
      "global_x\n"
     ]
    }
   ],
   "source": [
    "x = 'global_x'\n",
    "\n",
    "def test():\n",
    "    x = 'local_x'\n",
    "    print(x)  \n",
    "\n",
    "test()\n",
    "print(x)"
   ]
  },
  {
   "cell_type": "code",
   "execution_count": 9,
   "metadata": {
    "collapsed": false,
    "deletable": true,
    "editable": true
   },
   "outputs": [
    {
     "name": "stdout",
     "output_type": "stream",
     "text": [
      "local_x\n",
      "local_x\n"
     ]
    }
   ],
   "source": [
    "# if you wanna use global x inside the function then you have to specifically mention it\n",
    "# eg :\n",
    "\n",
    "x = 'global_x'\n",
    "\n",
    "def test():\n",
    "    global x\n",
    "    x = 'local_x'\n",
    "    print(x)\n",
    "    \n",
    "test()\n",
    "print(x)\n",
    "    "
   ]
  },
  {
   "cell_type": "code",
   "execution_count": 12,
   "metadata": {
    "collapsed": false,
    "deletable": true,
    "editable": true
   },
   "outputs": [
    {
     "name": "stdout",
     "output_type": "stream",
     "text": [
      "local_x\n",
      "local_x\n"
     ]
    }
   ],
   "source": [
    "# even if we comment out the global x then also it works\n",
    "\n",
    "def test():\n",
    "    global x   # if you comment out this then second print(x) will give error\n",
    "    x = 'local_x'\n",
    "    print(x)\n",
    "    \n",
    "test()\n",
    "print(x) # x is accessible outside also"
   ]
  },
  {
   "cell_type": "code",
   "execution_count": 25,
   "metadata": {
    "collapsed": false,
    "deletable": true,
    "editable": true
   },
   "outputs": [
    {
     "name": "stdout",
     "output_type": "stream",
     "text": [
      "['ArithmeticError', 'AssertionError', 'AttributeError', 'BaseException', 'BlockingIOError', 'BrokenPipeError', 'BufferError', 'BytesWarning', 'ChildProcessError', 'ConnectionAbortedError', 'ConnectionError', 'ConnectionRefusedError', 'ConnectionResetError', 'DeprecationWarning', 'EOFError', 'Ellipsis', 'EnvironmentError', 'Exception', 'False', 'FileExistsError', 'FileNotFoundError', 'FloatingPointError', 'FutureWarning', 'GeneratorExit', 'IOError', 'ImportError', 'ImportWarning', 'IndentationError', 'IndexError', 'InterruptedError', 'IsADirectoryError', 'KeyError', 'KeyboardInterrupt', 'LookupError', 'MemoryError', 'NameError', 'None', 'NotADirectoryError', 'NotImplemented', 'NotImplementedError', 'OSError', 'OverflowError', 'PendingDeprecationWarning', 'PermissionError', 'ProcessLookupError', 'RecursionError', 'ReferenceError', 'ResourceWarning', 'RuntimeError', 'RuntimeWarning', 'StopAsyncIteration', 'StopIteration', 'SyntaxError', 'SyntaxWarning', 'SystemError', 'SystemExit', 'TabError', 'TimeoutError', 'True', 'TypeError', 'UnboundLocalError', 'UnicodeDecodeError', 'UnicodeEncodeError', 'UnicodeError', 'UnicodeTranslateError', 'UnicodeWarning', 'UserWarning', 'ValueError', 'Warning', 'ZeroDivisionError', '__IPYTHON__', '__build_class__', '__debug__', '__doc__', '__import__', '__loader__', '__name__', '__package__', '__spec__', 'abs', 'all', 'any', 'ascii', 'bin', 'bool', 'bytearray', 'bytes', 'callable', 'chr', 'classmethod', 'compile', 'complex', 'copyright', 'credits', 'delattr', 'dict', 'dir', 'divmod', 'dreload', 'enumerate', 'eval', 'exec', 'filter', 'float', 'format', 'frozenset', 'get_ipython', 'getattr', 'globals', 'hasattr', 'hash', 'help', 'hex', 'id', 'input', 'int', 'isinstance', 'issubclass', 'iter', 'len', 'license', 'list', 'locals', 'map', 'max', 'memoryview', 'min', 'next', 'object', 'oct', 'open', 'ord', 'pow', 'print', 'property', 'range', 'repr', 'reversed', 'round', 'set', 'setattr', 'slice', 'sorted', 'staticmethod', 'str', 'sum', 'super', 'tuple', 'type', 'vars', 'zip']\n",
      "\n",
      "\n",
      "\n",
      "['__doc__', '__loader__', '__name__', '__package__', '__spec__', 'acos', 'acosh', 'asin', 'asinh', 'atan', 'atan2', 'atanh', 'ceil', 'copysign', 'cos', 'cosh', 'degrees', 'e', 'erf', 'erfc', 'exp', 'expm1', 'fabs', 'factorial', 'floor', 'fmod', 'frexp', 'fsum', 'gamma', 'gcd', 'hypot', 'inf', 'isclose', 'isfinite', 'isinf', 'isnan', 'ldexp', 'lgamma', 'log', 'log10', 'log1p', 'log2', 'modf', 'nan', 'pi', 'pow', 'radians', 'sin', 'sinh', 'sqrt', 'tan', 'tanh', 'trunc']\n"
     ]
    }
   ],
   "source": [
    "import builtins\n",
    "print(dir(builtins))\n",
    "\n",
    "print(\"\\n\\n\")\n",
    "\n",
    "import math\n",
    "print(dir(math))"
   ]
  },
  {
   "cell_type": "code",
   "execution_count": 33,
   "metadata": {
    "collapsed": false,
    "deletable": true,
    "editable": true
   },
   "outputs": [
    {
     "ename": "TypeError",
     "evalue": "min() takes 0 positional arguments but 1 was given",
     "output_type": "error",
     "traceback": [
      "\u001b[0;31m---------------------------------------------------------------------------\u001b[0m",
      "\u001b[0;31mTypeError\u001b[0m                                 Traceback (most recent call last)",
      "\u001b[0;32m<ipython-input-33-68661bcaf85a>\u001b[0m in \u001b[0;36m<module>\u001b[0;34m()\u001b[0m\n\u001b[1;32m      3\u001b[0m \u001b[0;34m\u001b[0m\u001b[0m\n\u001b[1;32m      4\u001b[0m \u001b[0;34m\u001b[0m\u001b[0m\n\u001b[0;32m----> 5\u001b[0;31m \u001b[0mm\u001b[0m \u001b[0;34m=\u001b[0m \u001b[0mmin\u001b[0m\u001b[0;34m(\u001b[0m\u001b[0;34m[\u001b[0m\u001b[0;36m2\u001b[0m\u001b[0;34m,\u001b[0m\u001b[0;36m3\u001b[0m\u001b[0;34m,\u001b[0m\u001b[0;36m4\u001b[0m\u001b[0;34m,\u001b[0m\u001b[0;36m1\u001b[0m\u001b[0;34m,\u001b[0m\u001b[0;36m5\u001b[0m\u001b[0;34m]\u001b[0m\u001b[0;34m)\u001b[0m   \u001b[0;31m# So if you call functions then it will try to look in Local , Enclosing , Global and Built-in order\u001b[0m\u001b[0;34m\u001b[0m\u001b[0m\n\u001b[0m\u001b[1;32m      6\u001b[0m \u001b[0mprint\u001b[0m\u001b[0;34m(\u001b[0m\u001b[0mm\u001b[0m\u001b[0;34m)\u001b[0m \u001b[0;31m# first it found it in local so will not look in global and hence error.\u001b[0m\u001b[0;34m\u001b[0m\u001b[0m\n",
      "\u001b[0;31mTypeError\u001b[0m: min() takes 0 positional arguments but 1 was given"
     ]
    }
   ],
   "source": [
    "def min():\n",
    "    pass\n",
    "\n",
    "\n",
    "m = min([2,3,4,1,5])   # So if you call functions then it will try to look in Local , Enclosing , Global and Built-in order\n",
    "print(m) # first it found it in local so will not look in global and hence error."
   ]
  },
  {
   "cell_type": "code",
   "execution_count": 36,
   "metadata": {
    "collapsed": false,
    "deletable": true,
    "editable": true
   },
   "outputs": [
    {
     "name": "stdout",
     "output_type": "stream",
     "text": [
      "inner_x\n",
      "outer_x\n"
     ]
    }
   ],
   "source": [
    "# In Python method could be inside another method.\n",
    "# and follow LEGB rule.\n",
    "def outer():\n",
    "    x = 'outer_x'\n",
    "    \n",
    "    def inner():\n",
    "        x = 'inner_x'\n",
    "        print(x)\n",
    "        \n",
    "    inner()\n",
    "    print(x)\n",
    "\n",
    "outer() "
   ]
  },
  {
   "cell_type": "code",
   "execution_count": 39,
   "metadata": {
    "collapsed": false,
    "deletable": true,
    "editable": true
   },
   "outputs": [
    {
     "name": "stdout",
     "output_type": "stream",
     "text": [
      "outer_x\n",
      "outer_x\n"
     ]
    }
   ],
   "source": [
    "# This is an example of enclosing scope \n",
    "\n",
    "x = 'global_x'\n",
    "\n",
    "def outer():\n",
    "    x = 'outer_x'\n",
    "    \n",
    "    def inner():\n",
    "       # x = 'inner_x'\n",
    "        print(x)  # above x is in enclosing scope for this , it first checked for local and then went for enclosing.\n",
    "        \n",
    "    inner()\n",
    "    print(x)\n",
    "\n",
    "outer() "
   ]
  },
  {
   "cell_type": "code",
   "execution_count": 43,
   "metadata": {
    "collapsed": false,
    "deletable": true,
    "editable": true
   },
   "outputs": [
    {
     "name": "stdout",
     "output_type": "stream",
     "text": [
      "global_x\n",
      "global_x\n"
     ]
    }
   ],
   "source": [
    "# This is an example of global scope \n",
    "\n",
    "x = 'global_x'\n",
    "\n",
    "def outer():\n",
    "    # x = 'outer_x'\n",
    "    \n",
    "    def inner():\n",
    "       # x = 'inner_x'\n",
    "        print(x)  # above x is in global scope for this , it first checked for local then for enclosing and then finally went for global.\n",
    "        \n",
    "    inner()\n",
    "    print(x) # it doesn't has any enclosing scope , so first checked local and then finally found at global. \n",
    "\n",
    "outer() "
   ]
  },
  {
   "cell_type": "code",
   "execution_count": 57,
   "metadata": {
    "collapsed": false,
    "deletable": true,
    "editable": true
   },
   "outputs": [
    {
     "name": "stdout",
     "output_type": "stream",
     "text": [
      "inner_x\n"
     ]
    },
    {
     "ename": "NameError",
     "evalue": "name 'x' is not defined",
     "output_type": "error",
     "traceback": [
      "\u001b[0;31m---------------------------------------------------------------------------\u001b[0m",
      "\u001b[0;31mNameError\u001b[0m                                 Traceback (most recent call last)",
      "\u001b[0;32m<ipython-input-57-9853fe359015>\u001b[0m in \u001b[0;36m<module>\u001b[0;34m()\u001b[0m\n\u001b[1;32m     11\u001b[0m     \u001b[0mprint\u001b[0m\u001b[0;34m(\u001b[0m\u001b[0mx\u001b[0m\u001b[0;34m)\u001b[0m  \u001b[0;31m# it is not able to find x anywhere (L, E ,G , B) , that's why error\u001b[0m\u001b[0;34m\u001b[0m\u001b[0m\n\u001b[1;32m     12\u001b[0m \u001b[0;34m\u001b[0m\u001b[0m\n\u001b[0;32m---> 13\u001b[0;31m \u001b[0mouter\u001b[0m\u001b[0;34m(\u001b[0m\u001b[0;34m)\u001b[0m\u001b[0;34m\u001b[0m\u001b[0m\n\u001b[0m",
      "\u001b[0;32m<ipython-input-57-9853fe359015>\u001b[0m in \u001b[0;36mouter\u001b[0;34m()\u001b[0m\n\u001b[1;32m      9\u001b[0m \u001b[0;34m\u001b[0m\u001b[0m\n\u001b[1;32m     10\u001b[0m     \u001b[0minner\u001b[0m\u001b[0;34m(\u001b[0m\u001b[0;34m)\u001b[0m\u001b[0;34m\u001b[0m\u001b[0m\n\u001b[0;32m---> 11\u001b[0;31m     \u001b[0mprint\u001b[0m\u001b[0;34m(\u001b[0m\u001b[0mx\u001b[0m\u001b[0;34m)\u001b[0m  \u001b[0;31m# it is not able to find x anywhere (L, E ,G , B) , that's why error\u001b[0m\u001b[0;34m\u001b[0m\u001b[0m\n\u001b[0m\u001b[1;32m     12\u001b[0m \u001b[0;34m\u001b[0m\u001b[0m\n\u001b[1;32m     13\u001b[0m \u001b[0mouter\u001b[0m\u001b[0;34m(\u001b[0m\u001b[0;34m)\u001b[0m\u001b[0;34m\u001b[0m\u001b[0m\n",
      "\u001b[0;31mNameError\u001b[0m: name 'x' is not defined"
     ]
    }
   ],
   "source": [
    "# x = 'global_x'\n",
    "\n",
    "def outer():\n",
    "    # x = 'outer_x'\n",
    "    \n",
    "    def inner():\n",
    "        x = 'inner_x'\n",
    "        print(x)  \n",
    "        \n",
    "    inner()\n",
    "    print(x)  # it is not able to find x anywhere (L, E ,G , B) , that's why error\n",
    "\n",
    "outer() "
   ]
  },
  {
   "cell_type": "code",
   "execution_count": 61,
   "metadata": {
    "collapsed": false,
    "deletable": true,
    "editable": true
   },
   "outputs": [
    {
     "name": "stdout",
     "output_type": "stream",
     "text": [
      "inner_x\n",
      "inner_x\n"
     ]
    }
   ],
   "source": [
    "def outer():\n",
    "    x = 'outer_x'\n",
    "    \n",
    "    def inner():\n",
    "        nonlocal x       # This is now access enclosing scope inside as we did for global (used in decoraters and closures)\n",
    "        x = 'inner_x'\n",
    "        print(x)\n",
    "    \n",
    "    inner()\n",
    "    print(x)\n",
    "    \n",
    "outer()"
   ]
  },
  {
   "cell_type": "code",
   "execution_count": 63,
   "metadata": {
    "code_folding": [],
    "collapsed": false,
    "deletable": true,
    "editable": true
   },
   "outputs": [
    {
     "name": "stdout",
     "output_type": "stream",
     "text": [
      "inner_x\n",
      "outer_x\n",
      "global_x\n"
     ]
    }
   ],
   "source": [
    "x = 'global_x'\n",
    "\n",
    "def outer():\n",
    "    x = 'outer_x'\n",
    "    \n",
    "    def inner():\n",
    "        x= 'inner_x'\n",
    "        print(x)\n",
    "        \n",
    "    inner()\n",
    "    print(x)\n",
    "\n",
    "outer()\n",
    "print(x)"
   ]
  },
  {
   "cell_type": "code",
   "execution_count": 65,
   "metadata": {
    "collapsed": false,
    "deletable": true,
    "editable": true
   },
   "outputs": [
    {
     "name": "stdout",
     "output_type": "stream",
     "text": [
      "outer_x\n",
      "outer_x\n",
      "global_x\n"
     ]
    }
   ],
   "source": [
    "x = 'global_x'\n",
    "\n",
    "def outer():\n",
    "    x = 'outer_x'\n",
    "    \n",
    "    def inner():\n",
    "       # x= 'inner_x'\n",
    "        print(x)\n",
    "        \n",
    "    inner()\n",
    "    print(x)\n",
    "\n",
    "outer()\n",
    "print(x)"
   ]
  },
  {
   "cell_type": "code",
   "execution_count": 66,
   "metadata": {
    "collapsed": false,
    "deletable": true,
    "editable": true
   },
   "outputs": [
    {
     "name": "stdout",
     "output_type": "stream",
     "text": [
      "global_x\n",
      "global_x\n",
      "global_x\n"
     ]
    }
   ],
   "source": [
    "x = 'global_x'\n",
    "\n",
    "def outer():\n",
    "   # x = 'outer_x'\n",
    "    \n",
    "    def inner():\n",
    "       # x= 'inner_x'\n",
    "        print(x)\n",
    "        \n",
    "    inner()\n",
    "    print(x)\n",
    "\n",
    "outer()\n",
    "print(x)"
   ]
  },
  {
   "cell_type": "code",
   "execution_count": 7,
   "metadata": {
    "collapsed": false,
    "deletable": true,
    "editable": true
   },
   "outputs": [
    {
     "name": "stdout",
     "output_type": "stream",
     "text": [
      "inner 3\n",
      "1 2 3\n",
      "outer 2\n",
      "1 2\n",
      "global 1\n",
      "1\n"
     ]
    }
   ],
   "source": [
    "'''\n",
    "LEGB\n",
    "Local, Enclosing, Global, Built-in\n",
    "'''\n",
    "\n",
    "for a in range(2):\n",
    "    x = 'global {}'.format(a)\n",
    "\n",
    "\n",
    "def outer():\n",
    "    # x = 'outer x'\n",
    "    for b in range(3):\n",
    "        x = 'outer {}'.format(b)     # override the value\n",
    "\n",
    "    def inner():\n",
    "        # x = 'inner x'\n",
    "        for c in range(4):\n",
    "            x = 'inner {}'.format(c)   # value overriden\n",
    "        print(x)\n",
    "        print(a, b, c)\n",
    "\n",
    "    inner()\n",
    "    print(x)\n",
    "    print(a, b)\n",
    "\n",
    "outer()\n",
    "print(x)\n",
    "print(a)"
   ]
  },
  {
   "cell_type": "code",
   "execution_count": 8,
   "metadata": {
    "collapsed": true
   },
   "outputs": [],
   "source": [
    "#END"
   ]
  }
 ],
 "metadata": {
  "kernelspec": {
   "display_name": "Python 3",
   "language": "python",
   "name": "python3"
  },
  "language_info": {
   "codemirror_mode": {
    "name": "ipython",
    "version": 3
   },
   "file_extension": ".py",
   "mimetype": "text/x-python",
   "name": "python",
   "nbconvert_exporter": "python",
   "pygments_lexer": "ipython3",
   "version": "3.5.2"
  }
 },
 "nbformat": 4,
 "nbformat_minor": 2
}
