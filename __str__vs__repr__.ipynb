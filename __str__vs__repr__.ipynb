{
 "cells": [
  {
   "cell_type": "code",
   "execution_count": 3,
   "metadata": {
    "collapsed": false
   },
   "outputs": [
    {
     "name": "stdout",
     "output_type": "stream",
     "text": [
      "[1, 2, 3, 4]\n",
      "[1, 2, 3, 4]\n",
      "sample string\n",
      "'sample string'\n"
     ]
    }
   ],
   "source": [
    "# The goal of __repr__ is to be unambiguous\n",
    "\n",
    "# The goal of __str__ is to be readable\n",
    "\n",
    "a = [1,2,3,4]\n",
    "b = 'sample string'\n",
    "\n",
    "print(str(a))\n",
    "print(repr(a))\n",
    "\n",
    "print(str(b))\n",
    "print(repr(b))"
   ]
  },
  {
   "cell_type": "code",
   "execution_count": 7,
   "metadata": {
    "collapsed": false
   },
   "outputs": [
    {
     "name": "stdout",
     "output_type": "stream",
     "text": [
      "str(a): 2017-04-14 15:37:49.120582+00:00\n",
      "str(b): 2017-04-14 15:37:49.120582+00:00\n",
      "\n",
      "repr(a): datetime.datetime(2017, 4, 14, 15, 37, 49, 120582, tzinfo=<UTC>)\n",
      "repr(b): '2017-04-14 15:37:49.120582+00:00'\n"
     ]
    }
   ],
   "source": [
    "import datetime\n",
    "import pytz\n",
    "\n",
    "a = datetime.datetime.utcnow().replace(tzinfo=pytz.UTC)\n",
    "\n",
    "b = str(a)\n",
    "\n",
    "print('str(a): {}'.format(str(a)))\n",
    "print('str(b): {}'.format(str(b)))    # used for end users\n",
    "\n",
    "print()\n",
    "\n",
    "print('repr(a): {}'.format(repr(a)))  # used by developers for their own use (like debugging) \n",
    "print('repr(b): {}'.format(repr(b)))"
   ]
  },
  {
   "cell_type": "code",
   "execution_count": null,
   "metadata": {
    "collapsed": true
   },
   "outputs": [],
   "source": [
    "# END"
   ]
  }
 ],
 "metadata": {
  "kernelspec": {
   "display_name": "Python 3",
   "language": "python",
   "name": "python3"
  },
  "language_info": {
   "codemirror_mode": {
    "name": "ipython",
    "version": 3
   },
   "file_extension": ".py",
   "mimetype": "text/x-python",
   "name": "python",
   "nbconvert_exporter": "python",
   "pygments_lexer": "ipython3",
   "version": "3.5.2"
  }
 },
 "nbformat": 4,
 "nbformat_minor": 2
}
