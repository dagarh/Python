{
 "cells": [
  {
   "cell_type": "code",
   "execution_count": 9,
   "metadata": {
    "collapsed": false
   },
   "outputs": [
    {
     "name": "stdout",
     "output_type": "stream",
     "text": [
      "first module's name : __main__\n"
     ]
    }
   ],
   "source": [
    "# whenever you import a module((...).py) inside another module and try to run that module then it also runs\n",
    "# the imported module inside that\n",
    "\n",
    "print(\"first module's name : {}\".format(__name__))\n",
    "# when you don't import any module and try to run file then it sets __name__ variable to __main__\n",
    "# but it may change based on module which you import and when import a module(.py files) then that imported module\n",
    "# also runs with current module\n",
    "\n",
    "def main():\n",
    "    pass\n",
    "\n",
    "if __name__ == '__main__':\n",
    "    main()"
   ]
  },
  {
   "cell_type": "code",
   "execution_count": 15,
   "metadata": {
    "collapsed": false
   },
   "outputs": [
    {
     "name": "stdout",
     "output_type": "stream",
     "text": [
      "first module's name : __main__\n",
      "second module's name : __main__\n"
     ]
    },
    {
     "data": {
      "text/plain": [
       "\"run beacuse it is being imported in some other file then __name__ variable would be set to that module's name\""
      ]
     },
     "execution_count": 15,
     "metadata": {},
     "output_type": "execute_result"
    }
   ],
   "source": [
    "# Let's take a scenario\n",
    "\n",
    "# Consider first_module.py :       \n",
    "def main():\n",
    "    print(\"first module's name : {}\".format(__name__))    \n",
    "if __name__=='__main__':\n",
    "    main()\n",
    "\n",
    "    \n",
    "# Consider second_module.py\n",
    "\"import first_module.py\"\n",
    "print(\"second module's name : {}\".format(__name__))\n",
    "\n",
    "\n",
    "\"--> So concept here is when file is run directly then __name__ would be set to __main__  otherwise if it has been\"\n",
    "\"run beacuse it is being imported in some other file then __name__ variable would be set to that module's name\""
   ]
  },
  {
   "cell_type": "code",
   "execution_count": 18,
   "metadata": {
    "collapsed": false
   },
   "outputs": [
    {
     "name": "stdout",
     "output_type": "stream",
     "text": [
      "Run Directly\n",
      "Second Module's Name : __main__\n"
     ]
    },
    {
     "data": {
      "text/plain": [
       "'If we try to run second_module.py then I will get output as :'"
      ]
     },
     "execution_count": 18,
     "metadata": {},
     "output_type": "execute_result"
    }
   ],
   "source": [
    "# Example \n",
    "\n",
    "#Consider first_module.py\n",
    "if __name__ == '__main__':\n",
    "    print(\"Run Directly\")\n",
    "else:\n",
    "    print(\"Run From Imported\")\n",
    "\n",
    "    \n",
    "# Consider second_module.py\n",
    "\"import first_module\"\n",
    "print(\"Second Module's Name : {}\".format(__name__))\n",
    "\n",
    "\n",
    "\"If we try to run first_module.py then I will get result as : 'Run Directly'\"\n",
    "\"If we try to run second_module.py then I will get output as :\" \n",
    "# 'Run From Imported'\n",
    "# Second Module's Name : __main__\n"
   ]
  }
 ],
 "metadata": {
  "kernelspec": {
   "display_name": "Python 3",
   "language": "python",
   "name": "python3"
  },
  "language_info": {
   "codemirror_mode": {
    "name": "ipython",
    "version": 3
   },
   "file_extension": ".py",
   "mimetype": "text/x-python",
   "name": "python",
   "nbconvert_exporter": "python",
   "pygments_lexer": "ipython3",
   "version": "3.5.2"
  }
 },
 "nbformat": 4,
 "nbformat_minor": 2
}
